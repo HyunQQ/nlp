{
 "cells": [
  {
   "cell_type": "code",
   "execution_count": 2,
   "metadata": {},
   "outputs": [],
   "source": [
    "import numpy as np\n",
    "from tensorflow.keras.preprocessing.text import Tokenizer\n",
    "from tensorflow.keras.preprocessing.sequence import pad_sequences\n",
    "from tensorflow.keras.utils import to_categorical"
   ]
  },
  {
   "cell_type": "code",
   "execution_count": 3,
   "metadata": {},
   "outputs": [],
   "source": [
    "text = \"\"\"경마장에 있는 말이 뛰고 있다\\n\n",
    "그의 말이 법이다\\n\n",
    "가는 말이 고와야 오늘 말이 곱다\\n\"\"\""
   ]
  },
  {
   "cell_type": "code",
   "execution_count": 5,
   "metadata": {},
   "outputs": [
    {
     "name": "stdout",
     "output_type": "stream",
     "text": [
      "단어 집합의 크기 : 12\n"
     ]
    }
   ],
   "source": [
    "t = Tokenizer()\n",
    "t.fit_on_texts([text])\n",
    "vocab_size = len(t.word_index)+1\n",
    "\n",
    "print('단어 집합의 크기 : %d' %vocab_size)"
   ]
  },
  {
   "cell_type": "code",
   "execution_count": 6,
   "metadata": {},
   "outputs": [
    {
     "name": "stdout",
     "output_type": "stream",
     "text": [
      "{'말이': 1, '경마장에': 2, '있는': 3, '뛰고': 4, '있다': 5, '그의': 6, '법이다': 7, '가는': 8, '고와야': 9, '오늘': 10, '곱다': 11}\n"
     ]
    }
   ],
   "source": [
    "print(t.word_index)"
   ]
  },
  {
   "cell_type": "code",
   "execution_count": 11,
   "metadata": {},
   "outputs": [
    {
     "name": "stdout",
     "output_type": "stream",
     "text": [
      "[2, 3, 1, 4, 5]\n",
      "[]\n",
      "[6, 1, 7]\n",
      "[]\n",
      "[8, 1, 9, 10, 1, 11]\n",
      "[]\n",
      "[[2, 3], [2, 3, 1], [2, 3, 1, 4], [2, 3, 1, 4, 5], [6, 1], [6, 1, 7], [8, 1], [8, 1, 9], [8, 1, 9, 10], [8, 1, 9, 10, 1], [8, 1, 9, 10, 1, 11]]\n",
      "학습에 사용할 샘플의 수 : 11\n"
     ]
    }
   ],
   "source": [
    "sequences = list()\n",
    "for line in text.split('\\n'):\n",
    "    encoded = t.texts_to_sequences([line])[0]\n",
    "    print(encoded)\n",
    "    for i in range(1, len(encoded)):\n",
    "        sequence = encoded[:i+1]\n",
    "        sequences.append(sequence)\n",
    "        \n",
    "\n",
    "print(sequences)\n",
    "print('학습에 사용할 샘플의 수 : %d' %len(sequences))"
   ]
  },
  {
   "cell_type": "code",
   "execution_count": 13,
   "metadata": {},
   "outputs": [
    {
     "name": "stdout",
     "output_type": "stream",
     "text": [
      "샘플의 최대 길이:6\n"
     ]
    }
   ],
   "source": [
    "max_len = max(len(l) for l in sequences)\n",
    "print('샘플의 최대 길이:%d'%max_len)"
   ]
  },
  {
   "cell_type": "code",
   "execution_count": 14,
   "metadata": {},
   "outputs": [],
   "source": [
    "sequences = pad_sequences(sequences, maxlen = max_len, padding='pre')"
   ]
  },
  {
   "cell_type": "code",
   "execution_count": 15,
   "metadata": {},
   "outputs": [
    {
     "name": "stdout",
     "output_type": "stream",
     "text": [
      "[[ 0  0  0  0  2  3]\n",
      " [ 0  0  0  2  3  1]\n",
      " [ 0  0  2  3  1  4]\n",
      " [ 0  2  3  1  4  5]\n",
      " [ 0  0  0  0  6  1]\n",
      " [ 0  0  0  6  1  7]\n",
      " [ 0  0  0  0  8  1]\n",
      " [ 0  0  0  8  1  9]\n",
      " [ 0  0  8  1  9 10]\n",
      " [ 0  8  1  9 10  1]\n",
      " [ 8  1  9 10  1 11]]\n"
     ]
    }
   ],
   "source": [
    "print(sequences)"
   ]
  },
  {
   "cell_type": "code",
   "execution_count": 16,
   "metadata": {},
   "outputs": [],
   "source": [
    "sequences = np.array(sequences)\n",
    "X = sequences[:,:-1]\n",
    "y = sequences[:,-1]\n"
   ]
  },
  {
   "cell_type": "code",
   "execution_count": 17,
   "metadata": {},
   "outputs": [
    {
     "name": "stdout",
     "output_type": "stream",
     "text": [
      "[[ 0  0  0  0  2]\n",
      " [ 0  0  0  2  3]\n",
      " [ 0  0  2  3  1]\n",
      " [ 0  2  3  1  4]\n",
      " [ 0  0  0  0  6]\n",
      " [ 0  0  0  6  1]\n",
      " [ 0  0  0  0  8]\n",
      " [ 0  0  0  8  1]\n",
      " [ 0  0  8  1  9]\n",
      " [ 0  8  1  9 10]\n",
      " [ 8  1  9 10  1]]\n"
     ]
    }
   ],
   "source": [
    "print(X)"
   ]
  },
  {
   "cell_type": "code",
   "execution_count": 18,
   "metadata": {},
   "outputs": [
    {
     "name": "stdout",
     "output_type": "stream",
     "text": [
      "[ 3  1  4  5  1  7  1  9 10  1 11]\n"
     ]
    }
   ],
   "source": [
    "print(y)"
   ]
  },
  {
   "cell_type": "code",
   "execution_count": 19,
   "metadata": {},
   "outputs": [],
   "source": [
    "y = to_categorical(y, num_classes=vocab_size)"
   ]
  },
  {
   "cell_type": "code",
   "execution_count": 20,
   "metadata": {},
   "outputs": [
    {
     "data": {
      "text/plain": [
       "array([[0., 0., 0., 1., 0., 0., 0., 0., 0., 0., 0., 0.],\n",
       "       [0., 1., 0., 0., 0., 0., 0., 0., 0., 0., 0., 0.],\n",
       "       [0., 0., 0., 0., 1., 0., 0., 0., 0., 0., 0., 0.],\n",
       "       [0., 0., 0., 0., 0., 1., 0., 0., 0., 0., 0., 0.],\n",
       "       [0., 1., 0., 0., 0., 0., 0., 0., 0., 0., 0., 0.],\n",
       "       [0., 0., 0., 0., 0., 0., 0., 1., 0., 0., 0., 0.],\n",
       "       [0., 1., 0., 0., 0., 0., 0., 0., 0., 0., 0., 0.],\n",
       "       [0., 0., 0., 0., 0., 0., 0., 0., 0., 1., 0., 0.],\n",
       "       [0., 0., 0., 0., 0., 0., 0., 0., 0., 0., 1., 0.],\n",
       "       [0., 1., 0., 0., 0., 0., 0., 0., 0., 0., 0., 0.],\n",
       "       [0., 0., 0., 0., 0., 0., 0., 0., 0., 0., 0., 1.]], dtype=float32)"
      ]
     },
     "execution_count": 20,
     "metadata": {},
     "output_type": "execute_result"
    }
   ],
   "source": [
    "y"
   ]
  },
  {
   "cell_type": "code",
   "execution_count": 21,
   "metadata": {},
   "outputs": [],
   "source": [
    "#model setting\n",
    "from tensorflow.keras.models import Sequential\n",
    "from tensorflow.keras.layers import Embedding, Dense, SimpleRNN"
   ]
  },
  {
   "cell_type": "code",
   "execution_count": 22,
   "metadata": {},
   "outputs": [
    {
     "name": "stdout",
     "output_type": "stream",
     "text": [
      "Epoch 1/200\n",
      "1/1 - 0s - loss: 2.4512 - accuracy: 0.0909\n",
      "Epoch 2/200\n",
      "1/1 - 0s - loss: 2.4356 - accuracy: 0.1818\n",
      "Epoch 3/200\n",
      "1/1 - 0s - loss: 2.4195 - accuracy: 0.2727\n",
      "Epoch 4/200\n",
      "1/1 - 0s - loss: 2.4027 - accuracy: 0.2727\n",
      "Epoch 5/200\n",
      "1/1 - 0s - loss: 2.3853 - accuracy: 0.2727\n",
      "Epoch 6/200\n",
      "1/1 - 0s - loss: 2.3672 - accuracy: 0.3636\n",
      "Epoch 7/200\n",
      "1/1 - 0s - loss: 2.3482 - accuracy: 0.3636\n",
      "Epoch 8/200\n",
      "1/1 - 0s - loss: 2.3285 - accuracy: 0.3636\n",
      "Epoch 9/200\n",
      "1/1 - 0s - loss: 2.3078 - accuracy: 0.3636\n",
      "Epoch 10/200\n",
      "1/1 - 0s - loss: 2.2863 - accuracy: 0.3636\n",
      "Epoch 11/200\n",
      "1/1 - 0s - loss: 2.2640 - accuracy: 0.3636\n",
      "Epoch 12/200\n",
      "1/1 - 0s - loss: 2.2408 - accuracy: 0.3636\n",
      "Epoch 13/200\n",
      "1/1 - 0s - loss: 2.2169 - accuracy: 0.3636\n",
      "Epoch 14/200\n",
      "1/1 - 0s - loss: 2.1923 - accuracy: 0.3636\n",
      "Epoch 15/200\n",
      "1/1 - 0s - loss: 2.1673 - accuracy: 0.3636\n",
      "Epoch 16/200\n",
      "1/1 - 0s - loss: 2.1421 - accuracy: 0.3636\n",
      "Epoch 17/200\n",
      "1/1 - 0s - loss: 2.1169 - accuracy: 0.3636\n",
      "Epoch 18/200\n",
      "1/1 - 0s - loss: 2.0922 - accuracy: 0.3636\n",
      "Epoch 19/200\n",
      "1/1 - 0s - loss: 2.0682 - accuracy: 0.3636\n",
      "Epoch 20/200\n",
      "1/1 - 0s - loss: 2.0454 - accuracy: 0.3636\n",
      "Epoch 21/200\n",
      "1/1 - 0s - loss: 2.0242 - accuracy: 0.3636\n",
      "Epoch 22/200\n",
      "1/1 - 0s - loss: 2.0049 - accuracy: 0.3636\n",
      "Epoch 23/200\n",
      "1/1 - 0s - loss: 1.9875 - accuracy: 0.3636\n",
      "Epoch 24/200\n",
      "1/1 - 0s - loss: 1.9721 - accuracy: 0.3636\n",
      "Epoch 25/200\n",
      "1/1 - 0s - loss: 1.9584 - accuracy: 0.3636\n",
      "Epoch 26/200\n",
      "1/1 - 0s - loss: 1.9457 - accuracy: 0.3636\n",
      "Epoch 27/200\n",
      "1/1 - 0s - loss: 1.9337 - accuracy: 0.3636\n",
      "Epoch 28/200\n",
      "1/1 - 0s - loss: 1.9215 - accuracy: 0.3636\n",
      "Epoch 29/200\n",
      "1/1 - 0s - loss: 1.9089 - accuracy: 0.3636\n",
      "Epoch 30/200\n",
      "1/1 - 0s - loss: 1.8956 - accuracy: 0.3636\n",
      "Epoch 31/200\n",
      "1/1 - 0s - loss: 1.8814 - accuracy: 0.3636\n",
      "Epoch 32/200\n",
      "1/1 - 0s - loss: 1.8665 - accuracy: 0.3636\n",
      "Epoch 33/200\n",
      "1/1 - 0s - loss: 1.8509 - accuracy: 0.3636\n",
      "Epoch 34/200\n",
      "1/1 - 0s - loss: 1.8349 - accuracy: 0.3636\n",
      "Epoch 35/200\n",
      "1/1 - 0s - loss: 1.8187 - accuracy: 0.3636\n",
      "Epoch 36/200\n",
      "1/1 - 0s - loss: 1.8025 - accuracy: 0.3636\n",
      "Epoch 37/200\n",
      "1/1 - 0s - loss: 1.7864 - accuracy: 0.3636\n",
      "Epoch 38/200\n",
      "1/1 - 0s - loss: 1.7705 - accuracy: 0.3636\n",
      "Epoch 39/200\n",
      "1/1 - 0s - loss: 1.7547 - accuracy: 0.3636\n",
      "Epoch 40/200\n",
      "1/1 - 0s - loss: 1.7390 - accuracy: 0.3636\n",
      "Epoch 41/200\n",
      "1/1 - 0s - loss: 1.7233 - accuracy: 0.3636\n",
      "Epoch 42/200\n",
      "1/1 - 0s - loss: 1.7074 - accuracy: 0.3636\n",
      "Epoch 43/200\n",
      "1/1 - 0s - loss: 1.6912 - accuracy: 0.3636\n",
      "Epoch 44/200\n",
      "1/1 - 0s - loss: 1.6746 - accuracy: 0.4545\n",
      "Epoch 45/200\n",
      "1/1 - 0s - loss: 1.6575 - accuracy: 0.4545\n",
      "Epoch 46/200\n",
      "1/1 - 0s - loss: 1.6399 - accuracy: 0.4545\n",
      "Epoch 47/200\n",
      "1/1 - 0s - loss: 1.6217 - accuracy: 0.4545\n",
      "Epoch 48/200\n",
      "1/1 - 0s - loss: 1.6030 - accuracy: 0.5455\n",
      "Epoch 49/200\n",
      "1/1 - 0s - loss: 1.5839 - accuracy: 0.5455\n",
      "Epoch 50/200\n",
      "1/1 - 0s - loss: 1.5643 - accuracy: 0.5455\n",
      "Epoch 51/200\n",
      "1/1 - 0s - loss: 1.5443 - accuracy: 0.5455\n",
      "Epoch 52/200\n",
      "1/1 - 0s - loss: 1.5239 - accuracy: 0.5455\n",
      "Epoch 53/200\n",
      "1/1 - 0s - loss: 1.5033 - accuracy: 0.6364\n",
      "Epoch 54/200\n",
      "1/1 - 0s - loss: 1.4825 - accuracy: 0.6364\n",
      "Epoch 55/200\n",
      "1/1 - 0s - loss: 1.4615 - accuracy: 0.6364\n",
      "Epoch 56/200\n",
      "1/1 - 0s - loss: 1.4405 - accuracy: 0.6364\n",
      "Epoch 57/200\n",
      "1/1 - 0s - loss: 1.4193 - accuracy: 0.6364\n",
      "Epoch 58/200\n",
      "1/1 - 0s - loss: 1.3982 - accuracy: 0.6364\n",
      "Epoch 59/200\n",
      "1/1 - 0s - loss: 1.3770 - accuracy: 0.6364\n",
      "Epoch 60/200\n",
      "1/1 - 0s - loss: 1.3560 - accuracy: 0.6364\n",
      "Epoch 61/200\n",
      "1/1 - 0s - loss: 1.3351 - accuracy: 0.6364\n",
      "Epoch 62/200\n",
      "1/1 - 0s - loss: 1.3143 - accuracy: 0.6364\n",
      "Epoch 63/200\n",
      "1/1 - 0s - loss: 1.2938 - accuracy: 0.6364\n",
      "Epoch 64/200\n",
      "1/1 - 0s - loss: 1.2735 - accuracy: 0.6364\n",
      "Epoch 65/200\n",
      "1/1 - 0s - loss: 1.2535 - accuracy: 0.6364\n",
      "Epoch 66/200\n",
      "1/1 - 0s - loss: 1.2339 - accuracy: 0.6364\n",
      "Epoch 67/200\n",
      "1/1 - 0s - loss: 1.2146 - accuracy: 0.6364\n",
      "Epoch 68/200\n",
      "1/1 - 0s - loss: 1.1956 - accuracy: 0.6364\n",
      "Epoch 69/200\n",
      "1/1 - 0s - loss: 1.1770 - accuracy: 0.6364\n",
      "Epoch 70/200\n",
      "1/1 - 0s - loss: 1.1588 - accuracy: 0.6364\n",
      "Epoch 71/200\n",
      "1/1 - 0s - loss: 1.1410 - accuracy: 0.6364\n",
      "Epoch 72/200\n",
      "1/1 - 0s - loss: 1.1235 - accuracy: 0.6364\n",
      "Epoch 73/200\n",
      "1/1 - 0s - loss: 1.1064 - accuracy: 0.6364\n",
      "Epoch 74/200\n",
      "1/1 - 0s - loss: 1.0897 - accuracy: 0.6364\n",
      "Epoch 75/200\n",
      "1/1 - 0s - loss: 1.0734 - accuracy: 0.6364\n",
      "Epoch 76/200\n",
      "1/1 - 0s - loss: 1.0574 - accuracy: 0.6364\n",
      "Epoch 77/200\n",
      "1/1 - 0s - loss: 1.0418 - accuracy: 0.6364\n",
      "Epoch 78/200\n",
      "1/1 - 0s - loss: 1.0266 - accuracy: 0.6364\n",
      "Epoch 79/200\n",
      "1/1 - 0s - loss: 1.0117 - accuracy: 0.6364\n",
      "Epoch 80/200\n",
      "1/1 - 0s - loss: 0.9971 - accuracy: 0.6364\n",
      "Epoch 81/200\n",
      "1/1 - 0s - loss: 0.9829 - accuracy: 0.6364\n",
      "Epoch 82/200\n",
      "1/1 - 0s - loss: 0.9690 - accuracy: 0.6364\n",
      "Epoch 83/200\n",
      "1/1 - 0s - loss: 0.9554 - accuracy: 0.7273\n",
      "Epoch 84/200\n",
      "1/1 - 0s - loss: 0.9420 - accuracy: 0.7273\n",
      "Epoch 85/200\n",
      "1/1 - 0s - loss: 0.9289 - accuracy: 0.7273\n",
      "Epoch 86/200\n",
      "1/1 - 0s - loss: 0.9160 - accuracy: 0.7273\n",
      "Epoch 87/200\n",
      "1/1 - 0s - loss: 0.9034 - accuracy: 0.8182\n",
      "Epoch 88/200\n",
      "1/1 - 0s - loss: 0.8910 - accuracy: 0.8182\n",
      "Epoch 89/200\n",
      "1/1 - 0s - loss: 0.8787 - accuracy: 0.8182\n",
      "Epoch 90/200\n",
      "1/1 - 0s - loss: 0.8667 - accuracy: 0.8182\n",
      "Epoch 91/200\n",
      "1/1 - 0s - loss: 0.8548 - accuracy: 0.8182\n",
      "Epoch 92/200\n",
      "1/1 - 0s - loss: 0.8431 - accuracy: 0.8182\n",
      "Epoch 93/200\n",
      "1/1 - 0s - loss: 0.8315 - accuracy: 0.8182\n",
      "Epoch 94/200\n",
      "1/1 - 0s - loss: 0.8201 - accuracy: 0.8182\n",
      "Epoch 95/200\n",
      "1/1 - 0s - loss: 0.8089 - accuracy: 0.8182\n",
      "Epoch 96/200\n",
      "1/1 - 0s - loss: 0.7978 - accuracy: 0.8182\n",
      "Epoch 97/200\n",
      "1/1 - 0s - loss: 0.7868 - accuracy: 0.8182\n",
      "Epoch 98/200\n",
      "1/1 - 0s - loss: 0.7759 - accuracy: 0.8182\n",
      "Epoch 99/200\n",
      "1/1 - 0s - loss: 0.7652 - accuracy: 0.8182\n",
      "Epoch 100/200\n",
      "1/1 - 0s - loss: 0.7546 - accuracy: 0.8182\n",
      "Epoch 101/200\n",
      "1/1 - 0s - loss: 0.7442 - accuracy: 0.8182\n",
      "Epoch 102/200\n",
      "1/1 - 0s - loss: 0.7339 - accuracy: 0.8182\n",
      "Epoch 103/200\n",
      "1/1 - 0s - loss: 0.7237 - accuracy: 0.8182\n",
      "Epoch 104/200\n",
      "1/1 - 0s - loss: 0.7136 - accuracy: 0.8182\n",
      "Epoch 105/200\n",
      "1/1 - 0s - loss: 0.7037 - accuracy: 0.8182\n",
      "Epoch 106/200\n",
      "1/1 - 0s - loss: 0.6939 - accuracy: 0.8182\n",
      "Epoch 107/200\n",
      "1/1 - 0s - loss: 0.6842 - accuracy: 0.8182\n",
      "Epoch 108/200\n",
      "1/1 - 0s - loss: 0.6747 - accuracy: 0.8182\n",
      "Epoch 109/200\n",
      "1/1 - 0s - loss: 0.6653 - accuracy: 0.8182\n",
      "Epoch 110/200\n",
      "1/1 - 0s - loss: 0.6560 - accuracy: 0.8182\n",
      "Epoch 111/200\n",
      "1/1 - 0s - loss: 0.6468 - accuracy: 0.8182\n",
      "Epoch 112/200\n",
      "1/1 - 0s - loss: 0.6378 - accuracy: 0.8182\n",
      "Epoch 113/200\n",
      "1/1 - 0s - loss: 0.6289 - accuracy: 0.8182\n",
      "Epoch 114/200\n",
      "1/1 - 0s - loss: 0.6202 - accuracy: 0.8182\n",
      "Epoch 115/200\n",
      "1/1 - 0s - loss: 0.6116 - accuracy: 0.8182\n",
      "Epoch 116/200\n",
      "1/1 - 0s - loss: 0.6031 - accuracy: 0.8182\n",
      "Epoch 117/200\n",
      "1/1 - 0s - loss: 0.5947 - accuracy: 0.8182\n",
      "Epoch 118/200\n",
      "1/1 - 0s - loss: 0.5865 - accuracy: 0.8182\n",
      "Epoch 119/200\n",
      "1/1 - 0s - loss: 0.5784 - accuracy: 0.8182\n",
      "Epoch 120/200\n",
      "1/1 - 0s - loss: 0.5705 - accuracy: 0.8182\n",
      "Epoch 121/200\n",
      "1/1 - 0s - loss: 0.5627 - accuracy: 0.8182\n",
      "Epoch 122/200\n",
      "1/1 - 0s - loss: 0.5550 - accuracy: 0.8182\n",
      "Epoch 123/200\n",
      "1/1 - 0s - loss: 0.5475 - accuracy: 0.8182\n",
      "Epoch 124/200\n",
      "1/1 - 0s - loss: 0.5401 - accuracy: 0.8182\n",
      "Epoch 125/200\n",
      "1/1 - 0s - loss: 0.5328 - accuracy: 0.8182\n",
      "Epoch 126/200\n",
      "1/1 - 0s - loss: 0.5257 - accuracy: 0.8182\n",
      "Epoch 127/200\n",
      "1/1 - 0s - loss: 0.5187 - accuracy: 0.8182\n",
      "Epoch 128/200\n",
      "1/1 - 0s - loss: 0.5118 - accuracy: 0.8182\n",
      "Epoch 129/200\n",
      "1/1 - 0s - loss: 0.5051 - accuracy: 0.8182\n",
      "Epoch 130/200\n",
      "1/1 - 0s - loss: 0.4985 - accuracy: 0.8182\n",
      "Epoch 131/200\n",
      "1/1 - 0s - loss: 0.4920 - accuracy: 0.8182\n",
      "Epoch 132/200\n",
      "1/1 - 0s - loss: 0.4857 - accuracy: 0.8182\n",
      "Epoch 133/200\n",
      "1/1 - 0s - loss: 0.4795 - accuracy: 0.8182\n",
      "Epoch 134/200\n",
      "1/1 - 0s - loss: 0.4733 - accuracy: 0.8182\n",
      "Epoch 135/200\n",
      "1/1 - 0s - loss: 0.4674 - accuracy: 0.8182\n",
      "Epoch 136/200\n",
      "1/1 - 0s - loss: 0.4615 - accuracy: 0.8182\n",
      "Epoch 137/200\n",
      "1/1 - 0s - loss: 0.4557 - accuracy: 0.8182\n",
      "Epoch 138/200\n",
      "1/1 - 0s - loss: 0.4501 - accuracy: 0.8182\n",
      "Epoch 139/200\n",
      "1/1 - 0s - loss: 0.4445 - accuracy: 0.8182\n",
      "Epoch 140/200\n",
      "1/1 - 0s - loss: 0.4391 - accuracy: 0.8182\n",
      "Epoch 141/200\n",
      "1/1 - 0s - loss: 0.4337 - accuracy: 0.8182\n",
      "Epoch 142/200\n",
      "1/1 - 0s - loss: 0.4285 - accuracy: 0.8182\n",
      "Epoch 143/200\n",
      "1/1 - 0s - loss: 0.4233 - accuracy: 0.8182\n",
      "Epoch 144/200\n",
      "1/1 - 0s - loss: 0.4183 - accuracy: 0.8182\n",
      "Epoch 145/200\n",
      "1/1 - 0s - loss: 0.4133 - accuracy: 0.8182\n",
      "Epoch 146/200\n",
      "1/1 - 0s - loss: 0.4084 - accuracy: 0.8182\n"
     ]
    },
    {
     "name": "stdout",
     "output_type": "stream",
     "text": [
      "Epoch 147/200\n",
      "1/1 - 0s - loss: 0.4036 - accuracy: 0.8182\n",
      "Epoch 148/200\n",
      "1/1 - 0s - loss: 0.3989 - accuracy: 0.8182\n",
      "Epoch 149/200\n",
      "1/1 - 0s - loss: 0.3943 - accuracy: 0.8182\n",
      "Epoch 150/200\n",
      "1/1 - 0s - loss: 0.3897 - accuracy: 0.8182\n",
      "Epoch 151/200\n",
      "1/1 - 0s - loss: 0.3852 - accuracy: 0.8182\n",
      "Epoch 152/200\n",
      "1/1 - 0s - loss: 0.3808 - accuracy: 0.8182\n",
      "Epoch 153/200\n",
      "1/1 - 0s - loss: 0.3765 - accuracy: 0.8182\n",
      "Epoch 154/200\n",
      "1/1 - 0s - loss: 0.3722 - accuracy: 0.8182\n",
      "Epoch 155/200\n",
      "1/1 - 0s - loss: 0.3680 - accuracy: 0.8182\n",
      "Epoch 156/200\n",
      "1/1 - 0s - loss: 0.3638 - accuracy: 0.8182\n",
      "Epoch 157/200\n",
      "1/1 - 0s - loss: 0.3598 - accuracy: 0.8182\n",
      "Epoch 158/200\n",
      "1/1 - 0s - loss: 0.3557 - accuracy: 0.9091\n",
      "Epoch 159/200\n",
      "1/1 - 0s - loss: 0.3517 - accuracy: 0.9091\n",
      "Epoch 160/200\n",
      "1/1 - 0s - loss: 0.3478 - accuracy: 0.9091\n",
      "Epoch 161/200\n",
      "1/1 - 0s - loss: 0.3439 - accuracy: 0.9091\n",
      "Epoch 162/200\n",
      "1/1 - 0s - loss: 0.3401 - accuracy: 0.9091\n",
      "Epoch 163/200\n",
      "1/1 - 0s - loss: 0.3363 - accuracy: 0.9091\n",
      "Epoch 164/200\n",
      "1/1 - 0s - loss: 0.3326 - accuracy: 0.9091\n",
      "Epoch 165/200\n",
      "1/1 - 0s - loss: 0.3289 - accuracy: 0.9091\n",
      "Epoch 166/200\n",
      "1/1 - 0s - loss: 0.3252 - accuracy: 0.9091\n",
      "Epoch 167/200\n",
      "1/1 - 0s - loss: 0.3216 - accuracy: 0.9091\n",
      "Epoch 168/200\n",
      "1/1 - 0s - loss: 0.3180 - accuracy: 0.9091\n",
      "Epoch 169/200\n",
      "1/1 - 0s - loss: 0.3145 - accuracy: 0.9091\n",
      "Epoch 170/200\n",
      "1/1 - 0s - loss: 0.3109 - accuracy: 0.9091\n",
      "Epoch 171/200\n",
      "1/1 - 0s - loss: 0.3075 - accuracy: 1.0000\n",
      "Epoch 172/200\n",
      "1/1 - 0s - loss: 0.3040 - accuracy: 1.0000\n",
      "Epoch 173/200\n",
      "1/1 - 0s - loss: 0.3006 - accuracy: 1.0000\n",
      "Epoch 174/200\n",
      "1/1 - 0s - loss: 0.2972 - accuracy: 1.0000\n",
      "Epoch 175/200\n",
      "1/1 - 0s - loss: 0.2938 - accuracy: 1.0000\n",
      "Epoch 176/200\n",
      "1/1 - 0s - loss: 0.2905 - accuracy: 1.0000\n",
      "Epoch 177/200\n",
      "1/1 - 0s - loss: 0.2872 - accuracy: 1.0000\n",
      "Epoch 178/200\n",
      "1/1 - 0s - loss: 0.2839 - accuracy: 1.0000\n",
      "Epoch 179/200\n",
      "1/1 - 0s - loss: 0.2806 - accuracy: 1.0000\n",
      "Epoch 180/200\n",
      "1/1 - 0s - loss: 0.2774 - accuracy: 1.0000\n",
      "Epoch 181/200\n",
      "1/1 - 0s - loss: 0.2741 - accuracy: 1.0000\n",
      "Epoch 182/200\n",
      "1/1 - 0s - loss: 0.2709 - accuracy: 1.0000\n",
      "Epoch 183/200\n",
      "1/1 - 0s - loss: 0.2677 - accuracy: 1.0000\n",
      "Epoch 184/200\n",
      "1/1 - 0s - loss: 0.2646 - accuracy: 1.0000\n",
      "Epoch 185/200\n",
      "1/1 - 0s - loss: 0.2614 - accuracy: 1.0000\n",
      "Epoch 186/200\n",
      "1/1 - 0s - loss: 0.2583 - accuracy: 1.0000\n",
      "Epoch 187/200\n",
      "1/1 - 0s - loss: 0.2552 - accuracy: 1.0000\n",
      "Epoch 188/200\n",
      "1/1 - 0s - loss: 0.2521 - accuracy: 1.0000\n",
      "Epoch 189/200\n",
      "1/1 - 0s - loss: 0.2490 - accuracy: 1.0000\n",
      "Epoch 190/200\n",
      "1/1 - 0s - loss: 0.2459 - accuracy: 1.0000\n",
      "Epoch 191/200\n",
      "1/1 - 0s - loss: 0.2428 - accuracy: 1.0000\n",
      "Epoch 192/200\n",
      "1/1 - 0s - loss: 0.2398 - accuracy: 1.0000\n",
      "Epoch 193/200\n",
      "1/1 - 0s - loss: 0.2368 - accuracy: 1.0000\n",
      "Epoch 194/200\n",
      "1/1 - 0s - loss: 0.2338 - accuracy: 1.0000\n",
      "Epoch 195/200\n",
      "1/1 - 0s - loss: 0.2308 - accuracy: 1.0000\n",
      "Epoch 196/200\n",
      "1/1 - 0s - loss: 0.2278 - accuracy: 1.0000\n",
      "Epoch 197/200\n",
      "1/1 - 0s - loss: 0.2248 - accuracy: 1.0000\n",
      "Epoch 198/200\n",
      "1/1 - 0s - loss: 0.2218 - accuracy: 1.0000\n",
      "Epoch 199/200\n",
      "1/1 - 0s - loss: 0.2189 - accuracy: 1.0000\n",
      "Epoch 200/200\n",
      "1/1 - 0s - loss: 0.2160 - accuracy: 1.0000\n"
     ]
    },
    {
     "data": {
      "text/plain": [
       "<tensorflow.python.keras.callbacks.History at 0x7fc33730a040>"
      ]
     },
     "execution_count": 22,
     "metadata": {},
     "output_type": "execute_result"
    }
   ],
   "source": [
    "model = Sequential()\n",
    "model.add(Embedding(vocab_size, 10, input_length=max_len-1))\n",
    "model.add(SimpleRNN(32))\n",
    "model.add(Dense(vocab_size, activation='softmax'))\n",
    "model.compile(loss='categorical_crossentropy', optimizer='adam', metrics=['accuracy'])\n",
    "model.fit(X, y, epochs=200, verbose=2)"
   ]
  },
  {
   "cell_type": "code",
   "execution_count": 25,
   "metadata": {},
   "outputs": [],
   "source": [
    "def sentence_generation(model, t, current_word, n):\n",
    "    init_word = current_word\n",
    "    sentence = ''\n",
    "    for _ in range(n):\n",
    "        encoded = t.texts_to_sequences([current_word])[0]\n",
    "        encoded = pad_sequences([encoded], maxlen=5, padding='pre')\n",
    "        result = model.predict_classes(encoded, verbose=0)\n",
    "        \n",
    "        for word, index in t.word_index.items():\n",
    "            if index == result:\n",
    "                break\n",
    "        current_word = current_word + ' ' + word\n",
    "        sentence = sentence + ' ' + word\n",
    "    sentence = init_word + sentence\n",
    "    return sentence\n",
    "        "
   ]
  },
  {
   "cell_type": "code",
   "execution_count": 26,
   "metadata": {},
   "outputs": [
    {
     "name": "stdout",
     "output_type": "stream",
     "text": [
      "WARNING:tensorflow:From <ipython-input-25-bdbfbab57c15>:7: Sequential.predict_classes (from tensorflow.python.keras.engine.sequential) is deprecated and will be removed after 2021-01-01.\n",
      "Instructions for updating:\n",
      "Please use instead:* `np.argmax(model.predict(x), axis=-1)`,   if your model does multi-class classification   (e.g. if it uses a `softmax` last-layer activation).* `(model.predict(x) > 0.5).astype(\"int32\")`,   if your model does binary classification   (e.g. if it uses a `sigmoid` last-layer activation).\n",
      "경마장에 있는 말이 뛰고 있다\n"
     ]
    }
   ],
   "source": [
    "print(sentence_generation(model, t, '경마장에', 4))"
   ]
  },
  {
   "cell_type": "code",
   "execution_count": 27,
   "metadata": {},
   "outputs": [
    {
     "name": "stdout",
     "output_type": "stream",
     "text": [
      "그의 말이 법이다\n"
     ]
    }
   ],
   "source": [
    "print(sentence_generation(model, t, '그의', 2))"
   ]
  },
  {
   "cell_type": "code",
   "execution_count": 32,
   "metadata": {},
   "outputs": [
    {
     "name": "stdout",
     "output_type": "stream",
     "text": [
      "가는 말이 고와야 오늘 말이 곱다\n"
     ]
    }
   ],
   "source": [
    "print(sentence_generation(model, t, '가는', 5))"
   ]
  },
  {
   "cell_type": "code",
   "execution_count": 33,
   "metadata": {},
   "outputs": [],
   "source": [
    "## kaggle data\n",
    "from string import punctuation\n",
    "import pandas as pd\n",
    "import numpy as np\n",
    "from tensorflow.keras.preprocessing.text import Tokenizer\n",
    "from tensorflow.keras.preprocessing.sequence import pad_sequences\n",
    "from tensorflow.keras.utils import to_categorical"
   ]
  },
  {
   "cell_type": "code",
   "execution_count": 34,
   "metadata": {},
   "outputs": [
    {
     "data": {
      "text/html": [
       "<div>\n",
       "<style scoped>\n",
       "    .dataframe tbody tr th:only-of-type {\n",
       "        vertical-align: middle;\n",
       "    }\n",
       "\n",
       "    .dataframe tbody tr th {\n",
       "        vertical-align: top;\n",
       "    }\n",
       "\n",
       "    .dataframe thead th {\n",
       "        text-align: right;\n",
       "    }\n",
       "</style>\n",
       "<table border=\"1\" class=\"dataframe\">\n",
       "  <thead>\n",
       "    <tr style=\"text-align: right;\">\n",
       "      <th></th>\n",
       "      <th>articleID</th>\n",
       "      <th>articleWordCount</th>\n",
       "      <th>byline</th>\n",
       "      <th>documentType</th>\n",
       "      <th>headline</th>\n",
       "      <th>keywords</th>\n",
       "      <th>multimedia</th>\n",
       "      <th>newDesk</th>\n",
       "      <th>printPage</th>\n",
       "      <th>pubDate</th>\n",
       "      <th>sectionName</th>\n",
       "      <th>snippet</th>\n",
       "      <th>source</th>\n",
       "      <th>typeOfMaterial</th>\n",
       "      <th>webURL</th>\n",
       "    </tr>\n",
       "  </thead>\n",
       "  <tbody>\n",
       "    <tr>\n",
       "      <th>0</th>\n",
       "      <td>5adf6684068401528a2aa69b</td>\n",
       "      <td>781</td>\n",
       "      <td>By JOHN BRANCH</td>\n",
       "      <td>article</td>\n",
       "      <td>Former N.F.L. Cheerleaders’ Settlement Offer: ...</td>\n",
       "      <td>['Workplace Hazards and Violations', 'Football...</td>\n",
       "      <td>68</td>\n",
       "      <td>Sports</td>\n",
       "      <td>0</td>\n",
       "      <td>2018-04-24 17:16:49</td>\n",
       "      <td>Pro Football</td>\n",
       "      <td>“I understand that they could meet with us, pa...</td>\n",
       "      <td>The New York Times</td>\n",
       "      <td>News</td>\n",
       "      <td>https://www.nytimes.com/2018/04/24/sports/foot...</td>\n",
       "    </tr>\n",
       "    <tr>\n",
       "      <th>1</th>\n",
       "      <td>5adf653f068401528a2aa697</td>\n",
       "      <td>656</td>\n",
       "      <td>By LISA FRIEDMAN</td>\n",
       "      <td>article</td>\n",
       "      <td>E.P.A. to Unveil a New Rule. Its Effect: Less ...</td>\n",
       "      <td>['Environmental Protection Agency', 'Pruitt, S...</td>\n",
       "      <td>68</td>\n",
       "      <td>Climate</td>\n",
       "      <td>0</td>\n",
       "      <td>2018-04-24 17:11:21</td>\n",
       "      <td>Unknown</td>\n",
       "      <td>The agency plans to publish a new regulation T...</td>\n",
       "      <td>The New York Times</td>\n",
       "      <td>News</td>\n",
       "      <td>https://www.nytimes.com/2018/04/24/climate/epa...</td>\n",
       "    </tr>\n",
       "    <tr>\n",
       "      <th>2</th>\n",
       "      <td>5adf4626068401528a2aa628</td>\n",
       "      <td>2427</td>\n",
       "      <td>By PETE WELLS</td>\n",
       "      <td>article</td>\n",
       "      <td>The New Noma, Explained</td>\n",
       "      <td>['Restaurants', 'Noma (Copenhagen, Restaurant)...</td>\n",
       "      <td>66</td>\n",
       "      <td>Dining</td>\n",
       "      <td>0</td>\n",
       "      <td>2018-04-24 14:58:44</td>\n",
       "      <td>Unknown</td>\n",
       "      <td>What’s it like to eat at the second incarnatio...</td>\n",
       "      <td>The New York Times</td>\n",
       "      <td>News</td>\n",
       "      <td>https://www.nytimes.com/2018/04/24/dining/noma...</td>\n",
       "    </tr>\n",
       "    <tr>\n",
       "      <th>3</th>\n",
       "      <td>5adf40d2068401528a2aa619</td>\n",
       "      <td>626</td>\n",
       "      <td>By JULIE HIRSCHFELD DAVIS and PETER BAKER</td>\n",
       "      <td>article</td>\n",
       "      <td>Unknown</td>\n",
       "      <td>['Macron, Emmanuel (1977- )', 'Trump, Donald J...</td>\n",
       "      <td>68</td>\n",
       "      <td>Washington</td>\n",
       "      <td>0</td>\n",
       "      <td>2018-04-24 14:35:57</td>\n",
       "      <td>Europe</td>\n",
       "      <td>President Trump welcomed President Emmanuel Ma...</td>\n",
       "      <td>The New York Times</td>\n",
       "      <td>News</td>\n",
       "      <td>https://www.nytimes.com/2018/04/24/world/europ...</td>\n",
       "    </tr>\n",
       "    <tr>\n",
       "      <th>4</th>\n",
       "      <td>5adf3d64068401528a2aa60f</td>\n",
       "      <td>815</td>\n",
       "      <td>By IAN AUSTEN and DAN BILEFSKY</td>\n",
       "      <td>article</td>\n",
       "      <td>Unknown</td>\n",
       "      <td>['Toronto, Ontario, Attack (April, 2018)', 'Mu...</td>\n",
       "      <td>68</td>\n",
       "      <td>Foreign</td>\n",
       "      <td>0</td>\n",
       "      <td>2018-04-24 14:21:21</td>\n",
       "      <td>Canada</td>\n",
       "      <td>Alek Minassian, 25, a resident of Toronto’s Ri...</td>\n",
       "      <td>The New York Times</td>\n",
       "      <td>News</td>\n",
       "      <td>https://www.nytimes.com/2018/04/24/world/canad...</td>\n",
       "    </tr>\n",
       "  </tbody>\n",
       "</table>\n",
       "</div>"
      ],
      "text/plain": [
       "                  articleID  ...                                             webURL\n",
       "0  5adf6684068401528a2aa69b  ...  https://www.nytimes.com/2018/04/24/sports/foot...\n",
       "1  5adf653f068401528a2aa697  ...  https://www.nytimes.com/2018/04/24/climate/epa...\n",
       "2  5adf4626068401528a2aa628  ...  https://www.nytimes.com/2018/04/24/dining/noma...\n",
       "3  5adf40d2068401528a2aa619  ...  https://www.nytimes.com/2018/04/24/world/europ...\n",
       "4  5adf3d64068401528a2aa60f  ...  https://www.nytimes.com/2018/04/24/world/canad...\n",
       "\n",
       "[5 rows x 15 columns]"
      ]
     },
     "execution_count": 34,
     "metadata": {},
     "output_type": "execute_result"
    }
   ],
   "source": [
    "df = pd.read_csv('data/datasets_19447_31436_ArticlesApril2018.csv')\n",
    "df.head()"
   ]
  },
  {
   "cell_type": "code",
   "execution_count": 36,
   "metadata": {},
   "outputs": [
    {
     "name": "stdout",
     "output_type": "stream",
     "text": [
      "열의 개수:15\n",
      "Index(['articleID', 'articleWordCount', 'byline', 'documentType', 'headline',\n",
      "       'keywords', 'multimedia', 'newDesk', 'printPage', 'pubDate',\n",
      "       'sectionName', 'snippet', 'source', 'typeOfMaterial', 'webURL'],\n",
      "      dtype='object')\n"
     ]
    }
   ],
   "source": [
    "print('열의 개수:{}'.format(len(df.columns)))\n",
    "print(df.columns)"
   ]
  },
  {
   "cell_type": "code",
   "execution_count": 37,
   "metadata": {},
   "outputs": [
    {
     "data": {
      "text/plain": [
       "0"
      ]
     },
     "execution_count": 37,
     "metadata": {},
     "output_type": "execute_result"
    }
   ],
   "source": [
    "df['headline'].isnull().sum()"
   ]
  },
  {
   "cell_type": "code",
   "execution_count": 40,
   "metadata": {},
   "outputs": [],
   "source": [
    "headline = list(df['headline'].values)"
   ]
  },
  {
   "cell_type": "code",
   "execution_count": 41,
   "metadata": {},
   "outputs": [
    {
     "name": "stdout",
     "output_type": "stream",
     "text": [
      "샘플의 수 :1324\n"
     ]
    }
   ],
   "source": [
    "print('샘플의 수 :{}'.format(len(headline)))"
   ]
  },
  {
   "cell_type": "code",
   "execution_count": 42,
   "metadata": {},
   "outputs": [
    {
     "name": "stdout",
     "output_type": "stream",
     "text": [
      "노이즈 제거 샘플의 수 :1214\n"
     ]
    }
   ],
   "source": [
    "headline = [n for n in headline if n != 'Unknown']\n",
    "print('노이즈 제거 샘플의 수 :{}'.format(len(headline)))"
   ]
  },
  {
   "cell_type": "code",
   "execution_count": 43,
   "metadata": {},
   "outputs": [
    {
     "data": {
      "text/plain": [
       "['former nfl cheerleaders settlement offer 1 and a meeting with goodell',\n",
       " 'epa to unveil a new rule its effect less science in policymaking',\n",
       " 'the new noma explained',\n",
       " 'how a bag of texas dirt  became a times tradition',\n",
       " 'is school a place for selfexpression']"
      ]
     },
     "execution_count": 43,
     "metadata": {},
     "output_type": "execute_result"
    }
   ],
   "source": [
    "def repreprocessing(s):\n",
    "    s = s.encode(\"utf8\").decode(\"ascii\",\"ignore\")\n",
    "    return ''.join(c for c in s if c not in punctuation).lower()\n",
    "\n",
    "text = [repreprocessing(x) for x in headline]\n",
    "text[:5]"
   ]
  },
  {
   "cell_type": "code",
   "execution_count": 45,
   "metadata": {},
   "outputs": [
    {
     "name": "stdout",
     "output_type": "stream",
     "text": [
      "단어 집합의 크기:3494\n"
     ]
    }
   ],
   "source": [
    "t = Tokenizer()\n",
    "t.fit_on_texts(text)\n",
    "vocab_size = len(t.word_index) + 1\n",
    "print('단어 집합의 크기:{}'.format(vocab_size))"
   ]
  },
  {
   "cell_type": "code",
   "execution_count": 47,
   "metadata": {},
   "outputs": [
    {
     "data": {
      "text/plain": [
       "[[99, 269],\n",
       " [99, 269, 371],\n",
       " [99, 269, 371, 1115],\n",
       " [99, 269, 371, 1115, 582],\n",
       " [99, 269, 371, 1115, 582, 52],\n",
       " [99, 269, 371, 1115, 582, 52, 7],\n",
       " [99, 269, 371, 1115, 582, 52, 7, 2],\n",
       " [99, 269, 371, 1115, 582, 52, 7, 2, 372],\n",
       " [99, 269, 371, 1115, 582, 52, 7, 2, 372, 10],\n",
       " [99, 269, 371, 1115, 582, 52, 7, 2, 372, 10, 1116]]"
      ]
     },
     "execution_count": 47,
     "metadata": {},
     "output_type": "execute_result"
    }
   ],
   "source": [
    "sequences = list()\n",
    "for line in text:\n",
    "    encoded = t.texts_to_sequences([line])[0]\n",
    "    for i in range(1, len(encoded)):\n",
    "        sequence = encoded[:i+1]\n",
    "        sequences.append(sequence)\n",
    "        \n",
    "sequences[:10]"
   ]
  },
  {
   "cell_type": "code",
   "execution_count": 49,
   "metadata": {},
   "outputs": [],
   "source": [
    "index_to_word = {}\n",
    "for key, value in t.word_index.items():\n",
    "    index_to_word[value] = key\n",
    "    \n"
   ]
  },
  {
   "cell_type": "code",
   "execution_count": 50,
   "metadata": {},
   "outputs": [
    {
     "name": "stdout",
     "output_type": "stream",
     "text": [
      "샘플 최대 길이 : 24\n"
     ]
    }
   ],
   "source": [
    "max_len = max(len(l) for l in sequences)\n",
    "print('샘플 최대 길이 : {}'.format(max_len))"
   ]
  },
  {
   "cell_type": "code",
   "execution_count": 51,
   "metadata": {},
   "outputs": [
    {
     "name": "stdout",
     "output_type": "stream",
     "text": [
      "[[   0    0    0    0    0    0    0    0    0    0    0    0    0    0\n",
      "     0    0    0    0    0    0    0    0   99  269]\n",
      " [   0    0    0    0    0    0    0    0    0    0    0    0    0    0\n",
      "     0    0    0    0    0    0    0   99  269  371]\n",
      " [   0    0    0    0    0    0    0    0    0    0    0    0    0    0\n",
      "     0    0    0    0    0    0   99  269  371 1115]]\n"
     ]
    }
   ],
   "source": [
    "sequences = pad_sequences(sequences, maxlen = max_len, padding='pre')\n",
    "print(sequences[:3])"
   ]
  },
  {
   "cell_type": "code",
   "execution_count": 52,
   "metadata": {},
   "outputs": [],
   "source": [
    "sequences = np.array(sequences)\n",
    "X = sequences[:,:-1]\n",
    "y = sequences[:,-1]\n"
   ]
  },
  {
   "cell_type": "code",
   "execution_count": 53,
   "metadata": {},
   "outputs": [],
   "source": [
    "y = to_categorical(y, num_classes=vocab_size)"
   ]
  },
  {
   "cell_type": "code",
   "execution_count": 54,
   "metadata": {},
   "outputs": [],
   "source": [
    "from tensorflow.keras.models import Sequential\n",
    "from tensorflow.keras.layers import Embedding, Dense, LSTM"
   ]
  },
  {
   "cell_type": "code",
   "execution_count": 57,
   "metadata": {},
   "outputs": [
    {
     "name": "stdout",
     "output_type": "stream",
     "text": [
      "Epoch 1/200\n",
      "244/244 - 3s - loss: 7.6641 - accuracy: 0.0272\n",
      "Epoch 2/200\n",
      "244/244 - 3s - loss: 7.1158 - accuracy: 0.0270\n",
      "Epoch 3/200\n",
      "244/244 - 3s - loss: 6.9748 - accuracy: 0.0340\n",
      "Epoch 4/200\n",
      "244/244 - 4s - loss: 6.8507 - accuracy: 0.0399\n",
      "Epoch 5/200\n",
      "244/244 - 4s - loss: 6.6974 - accuracy: 0.0447\n",
      "Epoch 6/200\n",
      "244/244 - 4s - loss: 6.5165 - accuracy: 0.0479\n",
      "Epoch 7/200\n",
      "244/244 - 3s - loss: 6.3183 - accuracy: 0.0527\n",
      "Epoch 8/200\n",
      "244/244 - 3s - loss: 6.1154 - accuracy: 0.0581\n",
      "Epoch 9/200\n",
      "244/244 - 3s - loss: 5.9158 - accuracy: 0.0631\n",
      "Epoch 10/200\n",
      "244/244 - 3s - loss: 5.7275 - accuracy: 0.0707\n",
      "Epoch 11/200\n",
      "244/244 - 3s - loss: 5.5516 - accuracy: 0.0723\n",
      "Epoch 12/200\n",
      "244/244 - 3s - loss: 5.3852 - accuracy: 0.0746\n",
      "Epoch 13/200\n",
      "244/244 - 3s - loss: 5.2292 - accuracy: 0.0818\n",
      "Epoch 14/200\n",
      "244/244 - 3s - loss: 5.0815 - accuracy: 0.0907\n",
      "Epoch 15/200\n",
      "244/244 - 3s - loss: 4.9410 - accuracy: 0.0961\n",
      "Epoch 16/200\n",
      "244/244 - 3s - loss: 4.8041 - accuracy: 0.1069\n",
      "Epoch 17/200\n",
      "244/244 - 3s - loss: 4.6738 - accuracy: 0.1223\n",
      "Epoch 18/200\n",
      "244/244 - 3s - loss: 4.5498 - accuracy: 0.1348\n",
      "Epoch 19/200\n",
      "244/244 - 3s - loss: 4.4264 - accuracy: 0.1502\n",
      "Epoch 20/200\n",
      "244/244 - 3s - loss: 4.3059 - accuracy: 0.1640\n",
      "Epoch 21/200\n",
      "244/244 - 3s - loss: 4.1937 - accuracy: 0.1801\n",
      "Epoch 22/200\n",
      "244/244 - 3s - loss: 4.0784 - accuracy: 0.1997\n",
      "Epoch 23/200\n",
      "244/244 - 3s - loss: 3.9738 - accuracy: 0.2121\n",
      "Epoch 24/200\n",
      "244/244 - 3s - loss: 3.8670 - accuracy: 0.2330\n",
      "Epoch 25/200\n",
      "244/244 - 3s - loss: 3.7659 - accuracy: 0.2493\n",
      "Epoch 26/200\n",
      "244/244 - 3s - loss: 3.6671 - accuracy: 0.2655\n",
      "Epoch 27/200\n",
      "244/244 - 3s - loss: 3.5714 - accuracy: 0.2801\n",
      "Epoch 28/200\n",
      "244/244 - 3s - loss: 3.4806 - accuracy: 0.3009\n",
      "Epoch 29/200\n",
      "244/244 - 3s - loss: 3.3897 - accuracy: 0.3190\n",
      "Epoch 30/200\n",
      "244/244 - 3s - loss: 3.3013 - accuracy: 0.3323\n",
      "Epoch 31/200\n",
      "244/244 - 3s - loss: 3.2150 - accuracy: 0.3511\n",
      "Epoch 32/200\n",
      "244/244 - 3s - loss: 3.1372 - accuracy: 0.3663\n",
      "Epoch 33/200\n",
      "244/244 - 3s - loss: 3.0586 - accuracy: 0.3823\n",
      "Epoch 34/200\n",
      "244/244 - 3s - loss: 2.9824 - accuracy: 0.3956\n",
      "Epoch 35/200\n",
      "244/244 - 3s - loss: 2.9087 - accuracy: 0.4083\n",
      "Epoch 36/200\n",
      "244/244 - 3s - loss: 2.8410 - accuracy: 0.4223\n",
      "Epoch 37/200\n",
      "244/244 - 3s - loss: 2.7706 - accuracy: 0.4307\n",
      "Epoch 38/200\n",
      "244/244 - 3s - loss: 2.7040 - accuracy: 0.4489\n",
      "Epoch 39/200\n",
      "244/244 - 3s - loss: 2.6411 - accuracy: 0.4610\n",
      "Epoch 40/200\n",
      "244/244 - 3s - loss: 2.5817 - accuracy: 0.4733\n",
      "Epoch 41/200\n",
      "244/244 - 3s - loss: 2.5195 - accuracy: 0.4817\n",
      "Epoch 42/200\n",
      "244/244 - 3s - loss: 2.4621 - accuracy: 0.4930\n",
      "Epoch 43/200\n",
      "244/244 - 3s - loss: 2.4067 - accuracy: 0.5070\n",
      "Epoch 44/200\n",
      "244/244 - 3s - loss: 2.3527 - accuracy: 0.5160\n",
      "Epoch 45/200\n",
      "244/244 - 3s - loss: 2.3001 - accuracy: 0.5230\n",
      "Epoch 46/200\n",
      "244/244 - 3s - loss: 2.2479 - accuracy: 0.5354\n",
      "Epoch 47/200\n",
      "244/244 - 3s - loss: 2.1997 - accuracy: 0.5470\n",
      "Epoch 48/200\n",
      "244/244 - 3s - loss: 2.1484 - accuracy: 0.5588\n",
      "Epoch 49/200\n",
      "244/244 - 3s - loss: 2.1006 - accuracy: 0.5685\n",
      "Epoch 50/200\n",
      "244/244 - 3s - loss: 2.0531 - accuracy: 0.5753\n",
      "Epoch 51/200\n",
      "244/244 - 3s - loss: 2.0062 - accuracy: 0.5902\n",
      "Epoch 52/200\n",
      "244/244 - 3s - loss: 1.9645 - accuracy: 0.5964\n",
      "Epoch 53/200\n",
      "244/244 - 3s - loss: 1.9208 - accuracy: 0.6044\n",
      "Epoch 54/200\n",
      "244/244 - 3s - loss: 1.8770 - accuracy: 0.6149\n",
      "Epoch 55/200\n",
      "244/244 - 3s - loss: 1.8385 - accuracy: 0.6223\n",
      "Epoch 56/200\n",
      "244/244 - 3s - loss: 1.7955 - accuracy: 0.6312\n",
      "Epoch 57/200\n",
      "244/244 - 3s - loss: 1.7556 - accuracy: 0.6403\n",
      "Epoch 58/200\n",
      "244/244 - 3s - loss: 1.7167 - accuracy: 0.6503\n",
      "Epoch 59/200\n",
      "244/244 - 3s - loss: 1.6787 - accuracy: 0.6595\n",
      "Epoch 60/200\n",
      "244/244 - 3s - loss: 1.6413 - accuracy: 0.6659\n",
      "Epoch 61/200\n",
      "244/244 - 3s - loss: 1.6043 - accuracy: 0.6760\n",
      "Epoch 62/200\n",
      "244/244 - 3s - loss: 1.5693 - accuracy: 0.6865\n",
      "Epoch 63/200\n",
      "244/244 - 3s - loss: 1.5354 - accuracy: 0.6915\n",
      "Epoch 64/200\n",
      "244/244 - 3s - loss: 1.5015 - accuracy: 0.6982\n",
      "Epoch 65/200\n",
      "244/244 - 3s - loss: 1.4652 - accuracy: 0.7078\n",
      "Epoch 66/200\n",
      "244/244 - 3s - loss: 1.4327 - accuracy: 0.7160\n",
      "Epoch 67/200\n",
      "244/244 - 3s - loss: 1.4022 - accuracy: 0.7205\n",
      "Epoch 68/200\n",
      "244/244 - 3s - loss: 1.3700 - accuracy: 0.7283\n",
      "Epoch 69/200\n",
      "244/244 - 3s - loss: 1.3414 - accuracy: 0.7329\n",
      "Epoch 70/200\n",
      "244/244 - 3s - loss: 1.3072 - accuracy: 0.7413\n",
      "Epoch 71/200\n",
      "244/244 - 3s - loss: 1.2812 - accuracy: 0.7489\n",
      "Epoch 72/200\n",
      "244/244 - 3s - loss: 1.2518 - accuracy: 0.7545\n",
      "Epoch 73/200\n",
      "244/244 - 3s - loss: 1.2236 - accuracy: 0.7600\n",
      "Epoch 74/200\n",
      "244/244 - 3s - loss: 1.1960 - accuracy: 0.7619\n",
      "Epoch 75/200\n",
      "244/244 - 3s - loss: 1.1706 - accuracy: 0.7684\n",
      "Epoch 76/200\n",
      "244/244 - 3s - loss: 1.1454 - accuracy: 0.7735\n",
      "Epoch 77/200\n",
      "244/244 - 3s - loss: 1.1180 - accuracy: 0.7789\n",
      "Epoch 78/200\n",
      "244/244 - 3s - loss: 1.0953 - accuracy: 0.7832\n",
      "Epoch 79/200\n",
      "244/244 - 3s - loss: 1.0697 - accuracy: 0.7894\n",
      "Epoch 80/200\n",
      "244/244 - 3s - loss: 1.0478 - accuracy: 0.7916\n",
      "Epoch 81/200\n",
      "244/244 - 3s - loss: 1.0230 - accuracy: 0.7969\n",
      "Epoch 82/200\n",
      "244/244 - 3s - loss: 1.0003 - accuracy: 0.8025\n",
      "Epoch 83/200\n",
      "244/244 - 3s - loss: 0.9883 - accuracy: 0.8030\n",
      "Epoch 84/200\n",
      "244/244 - 3s - loss: 0.9621 - accuracy: 0.8092\n",
      "Epoch 85/200\n",
      "244/244 - 3s - loss: 0.9393 - accuracy: 0.8119\n",
      "Epoch 86/200\n",
      "244/244 - 3s - loss: 0.9186 - accuracy: 0.8147\n",
      "Epoch 87/200\n",
      "244/244 - 3s - loss: 0.8976 - accuracy: 0.8180\n",
      "Epoch 88/200\n",
      "244/244 - 3s - loss: 0.8804 - accuracy: 0.8215\n",
      "Epoch 89/200\n",
      "244/244 - 3s - loss: 0.8612 - accuracy: 0.8275\n",
      "Epoch 90/200\n",
      "244/244 - 3s - loss: 0.8410 - accuracy: 0.8310\n",
      "Epoch 91/200\n",
      "244/244 - 3s - loss: 0.8248 - accuracy: 0.8307\n",
      "Epoch 92/200\n",
      "244/244 - 3s - loss: 0.8104 - accuracy: 0.8376\n",
      "Epoch 93/200\n",
      "244/244 - 3s - loss: 0.7928 - accuracy: 0.8387\n",
      "Epoch 94/200\n",
      "244/244 - 3s - loss: 0.7770 - accuracy: 0.8438\n",
      "Epoch 95/200\n",
      "244/244 - 3s - loss: 0.7592 - accuracy: 0.8472\n",
      "Epoch 96/200\n",
      "244/244 - 3s - loss: 0.7442 - accuracy: 0.8495\n",
      "Epoch 97/200\n",
      "244/244 - 3s - loss: 0.7276 - accuracy: 0.8527\n",
      "Epoch 98/200\n",
      "244/244 - 3s - loss: 0.7130 - accuracy: 0.8544\n",
      "Epoch 99/200\n",
      "244/244 - 3s - loss: 0.6971 - accuracy: 0.8603\n",
      "Epoch 100/200\n",
      "244/244 - 3s - loss: 0.6845 - accuracy: 0.8613\n",
      "Epoch 101/200\n",
      "244/244 - 3s - loss: 0.6716 - accuracy: 0.8653\n",
      "Epoch 102/200\n",
      "244/244 - 3s - loss: 0.6576 - accuracy: 0.8653\n",
      "Epoch 103/200\n",
      "244/244 - 3s - loss: 0.6436 - accuracy: 0.8700\n",
      "Epoch 104/200\n",
      "244/244 - 3s - loss: 0.6319 - accuracy: 0.8739\n",
      "Epoch 105/200\n",
      "244/244 - 3s - loss: 0.6222 - accuracy: 0.8740\n",
      "Epoch 106/200\n",
      "244/244 - 3s - loss: 0.6077 - accuracy: 0.8771\n",
      "Epoch 107/200\n",
      "244/244 - 3s - loss: 0.5968 - accuracy: 0.8780\n",
      "Epoch 108/200\n",
      "244/244 - 3s - loss: 0.5879 - accuracy: 0.8800\n",
      "Epoch 109/200\n",
      "244/244 - 3s - loss: 0.5756 - accuracy: 0.8809\n",
      "Epoch 110/200\n",
      "244/244 - 3s - loss: 0.5675 - accuracy: 0.8850\n",
      "Epoch 111/200\n",
      "244/244 - 3s - loss: 0.5837 - accuracy: 0.8812\n",
      "Epoch 112/200\n",
      "244/244 - 3s - loss: 0.5684 - accuracy: 0.8843\n",
      "Epoch 113/200\n",
      "244/244 - 3s - loss: 0.5420 - accuracy: 0.8899\n",
      "Epoch 114/200\n",
      "244/244 - 3s - loss: 0.5248 - accuracy: 0.8898\n",
      "Epoch 115/200\n",
      "244/244 - 3s - loss: 0.5150 - accuracy: 0.8923\n",
      "Epoch 116/200\n",
      "244/244 - 3s - loss: 0.5057 - accuracy: 0.8957\n",
      "Epoch 117/200\n",
      "244/244 - 3s - loss: 0.4994 - accuracy: 0.8959\n",
      "Epoch 118/200\n",
      "244/244 - 3s - loss: 0.4908 - accuracy: 0.8953\n",
      "Epoch 119/200\n",
      "244/244 - 3s - loss: 0.4845 - accuracy: 0.8979\n",
      "Epoch 120/200\n",
      "244/244 - 3s - loss: 0.4767 - accuracy: 0.8979\n",
      "Epoch 121/200\n",
      "244/244 - 3s - loss: 0.4682 - accuracy: 0.8981\n",
      "Epoch 122/200\n",
      "244/244 - 3s - loss: 0.4606 - accuracy: 0.9013\n",
      "Epoch 123/200\n",
      "244/244 - 3s - loss: 0.4532 - accuracy: 0.9026\n",
      "Epoch 124/200\n",
      "244/244 - 3s - loss: 0.4477 - accuracy: 0.9020\n",
      "Epoch 125/200\n",
      "244/244 - 3s - loss: 0.4675 - accuracy: 0.8979\n",
      "Epoch 126/200\n",
      "244/244 - 3s - loss: 0.4737 - accuracy: 0.9007\n",
      "Epoch 127/200\n",
      "244/244 - 3s - loss: 0.4447 - accuracy: 0.9036\n",
      "Epoch 128/200\n",
      "244/244 - 3s - loss: 0.4272 - accuracy: 0.9066\n",
      "Epoch 129/200\n",
      "244/244 - 3s - loss: 0.4150 - accuracy: 0.9072\n",
      "Epoch 130/200\n",
      "244/244 - 3s - loss: 0.4070 - accuracy: 0.9072\n",
      "Epoch 131/200\n",
      "244/244 - 3s - loss: 0.4041 - accuracy: 0.9094\n",
      "Epoch 132/200\n",
      "244/244 - 3s - loss: 0.3971 - accuracy: 0.9077\n",
      "Epoch 133/200\n",
      "244/244 - 3s - loss: 0.3929 - accuracy: 0.9100\n",
      "Epoch 134/200\n",
      "244/244 - 3s - loss: 0.3876 - accuracy: 0.9094\n",
      "Epoch 135/200\n",
      "244/244 - 3s - loss: 0.3827 - accuracy: 0.9116\n",
      "Epoch 136/200\n",
      "244/244 - 3s - loss: 0.3836 - accuracy: 0.9108\n",
      "Epoch 137/200\n"
     ]
    },
    {
     "name": "stdout",
     "output_type": "stream",
     "text": [
      "244/244 - 3s - loss: 0.3757 - accuracy: 0.9123\n",
      "Epoch 138/200\n",
      "244/244 - 3s - loss: 0.3696 - accuracy: 0.9109\n",
      "Epoch 139/200\n",
      "244/244 - 3s - loss: 0.3653 - accuracy: 0.9126\n",
      "Epoch 140/200\n",
      "244/244 - 3s - loss: 0.3603 - accuracy: 0.9111\n",
      "Epoch 141/200\n",
      "244/244 - 3s - loss: 0.3561 - accuracy: 0.9134\n",
      "Epoch 142/200\n",
      "244/244 - 3s - loss: 0.3536 - accuracy: 0.9134\n",
      "Epoch 143/200\n",
      "244/244 - 3s - loss: 0.3484 - accuracy: 0.9130\n",
      "Epoch 144/200\n",
      "244/244 - 3s - loss: 0.3463 - accuracy: 0.9135\n",
      "Epoch 145/200\n",
      "244/244 - 3s - loss: 0.3462 - accuracy: 0.9136\n",
      "Epoch 146/200\n",
      "244/244 - 3s - loss: 0.4048 - accuracy: 0.9002\n",
      "Epoch 147/200\n",
      "244/244 - 3s - loss: 0.3841 - accuracy: 0.9070\n",
      "Epoch 148/200\n",
      "244/244 - 3s - loss: 0.3377 - accuracy: 0.9157\n",
      "Epoch 149/200\n",
      "244/244 - 3s - loss: 0.3296 - accuracy: 0.9153\n",
      "Epoch 150/200\n",
      "244/244 - 3s - loss: 0.3258 - accuracy: 0.9157\n",
      "Epoch 151/200\n",
      "244/244 - 3s - loss: 0.3224 - accuracy: 0.9152\n",
      "Epoch 152/200\n",
      "244/244 - 3s - loss: 0.3204 - accuracy: 0.9163\n",
      "Epoch 153/200\n",
      "244/244 - 3s - loss: 0.3184 - accuracy: 0.9150\n",
      "Epoch 154/200\n",
      "244/244 - 3s - loss: 0.3168 - accuracy: 0.9146\n",
      "Epoch 155/200\n",
      "244/244 - 3s - loss: 0.3150 - accuracy: 0.9154\n",
      "Epoch 156/200\n",
      "244/244 - 3s - loss: 0.3116 - accuracy: 0.9167\n",
      "Epoch 157/200\n",
      "244/244 - 3s - loss: 0.3149 - accuracy: 0.9146\n",
      "Epoch 158/200\n",
      "244/244 - 3s - loss: 0.3104 - accuracy: 0.9170\n",
      "Epoch 159/200\n",
      "244/244 - 3s - loss: 0.3076 - accuracy: 0.9149\n",
      "Epoch 160/200\n",
      "244/244 - 3s - loss: 0.3042 - accuracy: 0.9172\n",
      "Epoch 161/200\n",
      "244/244 - 3s - loss: 0.3026 - accuracy: 0.9161\n",
      "Epoch 162/200\n",
      "244/244 - 3s - loss: 0.2999 - accuracy: 0.9164\n",
      "Epoch 163/200\n",
      "244/244 - 3s - loss: 0.2991 - accuracy: 0.9161\n",
      "Epoch 164/200\n",
      "244/244 - 3s - loss: 0.2972 - accuracy: 0.9181\n",
      "Epoch 165/200\n",
      "244/244 - 3s - loss: 0.2981 - accuracy: 0.9164\n",
      "Epoch 166/200\n",
      "244/244 - 3s - loss: 0.2961 - accuracy: 0.9153\n",
      "Epoch 167/200\n",
      "244/244 - 3s - loss: 0.2941 - accuracy: 0.9172\n",
      "Epoch 168/200\n",
      "244/244 - 3s - loss: 0.3228 - accuracy: 0.9118\n",
      "Epoch 169/200\n",
      "244/244 - 3s - loss: 0.3109 - accuracy: 0.9155\n",
      "Epoch 170/200\n",
      "244/244 - 3s - loss: 0.2920 - accuracy: 0.9167\n",
      "Epoch 171/200\n",
      "244/244 - 3s - loss: 0.2865 - accuracy: 0.9186\n",
      "Epoch 172/200\n",
      "244/244 - 3s - loss: 0.2858 - accuracy: 0.9162\n",
      "Epoch 173/200\n",
      "244/244 - 3s - loss: 0.2840 - accuracy: 0.9176\n",
      "Epoch 174/200\n",
      "244/244 - 3s - loss: 0.2836 - accuracy: 0.9159\n",
      "Epoch 175/200\n",
      "244/244 - 3s - loss: 0.2838 - accuracy: 0.9157\n",
      "Epoch 176/200\n",
      "244/244 - 3s - loss: 0.2824 - accuracy: 0.9172\n",
      "Epoch 177/200\n",
      "244/244 - 3s - loss: 0.2807 - accuracy: 0.9157\n",
      "Epoch 178/200\n",
      "244/244 - 3s - loss: 0.2808 - accuracy: 0.9177\n",
      "Epoch 179/200\n",
      "244/244 - 3s - loss: 0.2799 - accuracy: 0.9170\n",
      "Epoch 180/200\n",
      "244/244 - 3s - loss: 0.2811 - accuracy: 0.9167\n",
      "Epoch 181/200\n",
      "244/244 - 3s - loss: 0.2804 - accuracy: 0.9157\n",
      "Epoch 182/200\n",
      "244/244 - 3s - loss: 0.3621 - accuracy: 0.8991\n",
      "Epoch 183/200\n",
      "244/244 - 3s - loss: 0.3018 - accuracy: 0.9136\n",
      "Epoch 184/200\n",
      "244/244 - 3s - loss: 0.2796 - accuracy: 0.9173\n",
      "Epoch 185/200\n",
      "244/244 - 3s - loss: 0.2750 - accuracy: 0.9176\n",
      "Epoch 186/200\n",
      "244/244 - 3s - loss: 0.2735 - accuracy: 0.9177\n",
      "Epoch 187/200\n",
      "244/244 - 3s - loss: 0.2737 - accuracy: 0.9177\n",
      "Epoch 188/200\n",
      "244/244 - 3s - loss: 0.2726 - accuracy: 0.9170\n",
      "Epoch 189/200\n",
      "244/244 - 3s - loss: 0.2727 - accuracy: 0.9168\n",
      "Epoch 190/200\n",
      "244/244 - 3s - loss: 0.2718 - accuracy: 0.9161\n",
      "Epoch 191/200\n",
      "244/244 - 3s - loss: 0.2714 - accuracy: 0.9162\n",
      "Epoch 192/200\n",
      "244/244 - 3s - loss: 0.2711 - accuracy: 0.9155\n",
      "Epoch 193/200\n",
      "244/244 - 3s - loss: 0.2704 - accuracy: 0.9170\n",
      "Epoch 194/200\n",
      "244/244 - 3s - loss: 0.2707 - accuracy: 0.9166\n",
      "Epoch 195/200\n",
      "244/244 - 3s - loss: 0.2710 - accuracy: 0.9157\n",
      "Epoch 196/200\n",
      "244/244 - 3s - loss: 0.2699 - accuracy: 0.9161\n",
      "Epoch 197/200\n",
      "244/244 - 3s - loss: 0.2714 - accuracy: 0.9171\n",
      "Epoch 198/200\n",
      "244/244 - 3s - loss: 0.2690 - accuracy: 0.9193\n",
      "Epoch 199/200\n",
      "244/244 - 3s - loss: 0.2679 - accuracy: 0.9170\n",
      "Epoch 200/200\n",
      "244/244 - 3s - loss: 0.2699 - accuracy: 0.9159\n"
     ]
    },
    {
     "data": {
      "text/plain": [
       "<tensorflow.python.keras.callbacks.History at 0x7fc321cbdfa0>"
      ]
     },
     "execution_count": 57,
     "metadata": {},
     "output_type": "execute_result"
    }
   ],
   "source": [
    "model = Sequential()\n",
    "model.add(Embedding(vocab_size, 10, input_length=max_len-1))\n",
    "model.add(LSTM(128))\n",
    "model.add(Dense(vocab_size, activation='softmax'))\n",
    "model.compile(loss='categorical_crossentropy', optimizer='adam', metrics=['accuracy'])\n",
    "model.fit(X,y, epochs=200, verbose=2)"
   ]
  },
  {
   "cell_type": "code",
   "execution_count": 62,
   "metadata": {},
   "outputs": [],
   "source": [
    "def sentence_generation(model, t, current_word, n):\n",
    "    init_word = current_word\n",
    "    sentence = ''\n",
    "    for _  in range(n):\n",
    "        encoded = t.texts_to_sequences([current_word])[0]\n",
    "        encoded = pad_sequences([encoded], maxlen=23, padding='pre')\n",
    "        result = model.predict_classes(encoded, verbose=0)\n",
    "        \n",
    "        for word, index in t.word_index.items():\n",
    "            if index == result:\n",
    "                break\n",
    "        current_word = current_word + ' ' + word\n",
    "        sentence = sentence + ' ' + word\n",
    "    sentence = init_word + sentence\n",
    "    return sentence"
   ]
  },
  {
   "cell_type": "code",
   "execution_count": 64,
   "metadata": {},
   "outputs": [
    {
     "name": "stdout",
     "output_type": "stream",
     "text": [
      "i cant jump ship from facebook yet can hes hes was\n"
     ]
    }
   ],
   "source": [
    "print(sentence_generation(model, t, 'i', 10))"
   ]
  },
  {
   "cell_type": "code",
   "execution_count": 66,
   "metadata": {},
   "outputs": [
    {
     "name": "stdout",
     "output_type": "stream",
     "text": [
      "how to make facebook more accountable is facebook yet gop risks\n"
     ]
    }
   ],
   "source": [
    "print(sentence_generation(model, t, 'how', 10))"
   ]
  },
  {
   "cell_type": "code",
   "execution_count": null,
   "metadata": {},
   "outputs": [],
   "source": []
  }
 ],
 "metadata": {
  "kernelspec": {
   "display_name": "Python 3",
   "language": "python",
   "name": "python3"
  },
  "language_info": {
   "codemirror_mode": {
    "name": "ipython",
    "version": 3
   },
   "file_extension": ".py",
   "mimetype": "text/x-python",
   "name": "python",
   "nbconvert_exporter": "python",
   "pygments_lexer": "ipython3",
   "version": "3.8.3"
  }
 },
 "nbformat": 4,
 "nbformat_minor": 4
}
