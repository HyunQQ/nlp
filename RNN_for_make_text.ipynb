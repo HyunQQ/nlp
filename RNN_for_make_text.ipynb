{
 "cells": [
  {
   "cell_type": "code",
   "execution_count": 2,
   "metadata": {},
   "outputs": [],
   "source": [
    "import numpy as np\n",
    "from tensorflow.keras.preprocessing.text import Tokenizer\n",
    "from tensorflow.keras.preprocessing.sequence import pad_sequences\n",
    "from tensorflow.keras.utils import to_categorical"
   ]
  },
  {
   "cell_type": "code",
   "execution_count": 3,
   "metadata": {},
   "outputs": [],
   "source": [
    "text = \"\"\"경마장에 있는 말이 뛰고 있다\\n\n",
    "그의 말이 법이다\\n\n",
    "가는 말이 고와야 오늘 말이 곱다\\n\"\"\""
   ]
  },
  {
   "cell_type": "code",
   "execution_count": 5,
   "metadata": {},
   "outputs": [
    {
     "name": "stdout",
     "output_type": "stream",
     "text": [
      "단어 집합의 크기 : 12\n"
     ]
    }
   ],
   "source": [
    "t = Tokenizer()\n",
    "t.fit_on_texts([text])\n",
    "vocab_size = len(t.word_index)+1\n",
    "\n",
    "print('단어 집합의 크기 : %d' %vocab_size)"
   ]
  },
  {
   "cell_type": "code",
   "execution_count": 6,
   "metadata": {},
   "outputs": [
    {
     "name": "stdout",
     "output_type": "stream",
     "text": [
      "{'말이': 1, '경마장에': 2, '있는': 3, '뛰고': 4, '있다': 5, '그의': 6, '법이다': 7, '가는': 8, '고와야': 9, '오늘': 10, '곱다': 11}\n"
     ]
    }
   ],
   "source": [
    "print(t.word_index)"
   ]
  },
  {
   "cell_type": "code",
   "execution_count": 11,
   "metadata": {},
   "outputs": [
    {
     "name": "stdout",
     "output_type": "stream",
     "text": [
      "[2, 3, 1, 4, 5]\n",
      "[]\n",
      "[6, 1, 7]\n",
      "[]\n",
      "[8, 1, 9, 10, 1, 11]\n",
      "[]\n",
      "[[2, 3], [2, 3, 1], [2, 3, 1, 4], [2, 3, 1, 4, 5], [6, 1], [6, 1, 7], [8, 1], [8, 1, 9], [8, 1, 9, 10], [8, 1, 9, 10, 1], [8, 1, 9, 10, 1, 11]]\n",
      "학습에 사용할 샘플의 수 : 11\n"
     ]
    }
   ],
   "source": [
    "sequences = list()\n",
    "for line in text.split('\\n'):\n",
    "    encoded = t.texts_to_sequences([line])[0]\n",
    "    print(encoded)\n",
    "    for i in range(1, len(encoded)):\n",
    "        sequence = encoded[:i+1]\n",
    "        sequences.append(sequence)\n",
    "        \n",
    "\n",
    "print(sequences)\n",
    "print('학습에 사용할 샘플의 수 : %d' %len(sequences))"
   ]
  },
  {
   "cell_type": "code",
   "execution_count": 13,
   "metadata": {},
   "outputs": [
    {
     "name": "stdout",
     "output_type": "stream",
     "text": [
      "샘플의 최대 길이:6\n"
     ]
    }
   ],
   "source": [
    "max_len = max(len(l) for l in sequences)\n",
    "print('샘플의 최대 길이:%d'%max_len)"
   ]
  },
  {
   "cell_type": "code",
   "execution_count": 14,
   "metadata": {},
   "outputs": [],
   "source": [
    "sequences = pad_sequences(sequences, maxlen = max_len, padding='pre')"
   ]
  },
  {
   "cell_type": "code",
   "execution_count": 15,
   "metadata": {},
   "outputs": [
    {
     "name": "stdout",
     "output_type": "stream",
     "text": [
      "[[ 0  0  0  0  2  3]\n",
      " [ 0  0  0  2  3  1]\n",
      " [ 0  0  2  3  1  4]\n",
      " [ 0  2  3  1  4  5]\n",
      " [ 0  0  0  0  6  1]\n",
      " [ 0  0  0  6  1  7]\n",
      " [ 0  0  0  0  8  1]\n",
      " [ 0  0  0  8  1  9]\n",
      " [ 0  0  8  1  9 10]\n",
      " [ 0  8  1  9 10  1]\n",
      " [ 8  1  9 10  1 11]]\n"
     ]
    }
   ],
   "source": [
    "print(sequences)"
   ]
  },
  {
   "cell_type": "code",
   "execution_count": 16,
   "metadata": {},
   "outputs": [],
   "source": [
    "sequences = np.array(sequences)\n",
    "X = sequences[:,:-1]\n",
    "y = sequences[:,-1]\n"
   ]
  },
  {
   "cell_type": "code",
   "execution_count": 17,
   "metadata": {},
   "outputs": [
    {
     "name": "stdout",
     "output_type": "stream",
     "text": [
      "[[ 0  0  0  0  2]\n",
      " [ 0  0  0  2  3]\n",
      " [ 0  0  2  3  1]\n",
      " [ 0  2  3  1  4]\n",
      " [ 0  0  0  0  6]\n",
      " [ 0  0  0  6  1]\n",
      " [ 0  0  0  0  8]\n",
      " [ 0  0  0  8  1]\n",
      " [ 0  0  8  1  9]\n",
      " [ 0  8  1  9 10]\n",
      " [ 8  1  9 10  1]]\n"
     ]
    }
   ],
   "source": [
    "print(X)"
   ]
  },
  {
   "cell_type": "code",
   "execution_count": 18,
   "metadata": {},
   "outputs": [
    {
     "name": "stdout",
     "output_type": "stream",
     "text": [
      "[ 3  1  4  5  1  7  1  9 10  1 11]\n"
     ]
    }
   ],
   "source": [
    "print(y)"
   ]
  },
  {
   "cell_type": "code",
   "execution_count": 19,
   "metadata": {},
   "outputs": [],
   "source": [
    "y = to_categorical(y, num_classes=vocab_size)"
   ]
  },
  {
   "cell_type": "code",
   "execution_count": 20,
   "metadata": {},
   "outputs": [
    {
     "data": {
      "text/plain": [
       "array([[0., 0., 0., 1., 0., 0., 0., 0., 0., 0., 0., 0.],\n",
       "       [0., 1., 0., 0., 0., 0., 0., 0., 0., 0., 0., 0.],\n",
       "       [0., 0., 0., 0., 1., 0., 0., 0., 0., 0., 0., 0.],\n",
       "       [0., 0., 0., 0., 0., 1., 0., 0., 0., 0., 0., 0.],\n",
       "       [0., 1., 0., 0., 0., 0., 0., 0., 0., 0., 0., 0.],\n",
       "       [0., 0., 0., 0., 0., 0., 0., 1., 0., 0., 0., 0.],\n",
       "       [0., 1., 0., 0., 0., 0., 0., 0., 0., 0., 0., 0.],\n",
       "       [0., 0., 0., 0., 0., 0., 0., 0., 0., 1., 0., 0.],\n",
       "       [0., 0., 0., 0., 0., 0., 0., 0., 0., 0., 1., 0.],\n",
       "       [0., 1., 0., 0., 0., 0., 0., 0., 0., 0., 0., 0.],\n",
       "       [0., 0., 0., 0., 0., 0., 0., 0., 0., 0., 0., 1.]], dtype=float32)"
      ]
     },
     "execution_count": 20,
     "metadata": {},
     "output_type": "execute_result"
    }
   ],
   "source": [
    "y"
   ]
  },
  {
   "cell_type": "code",
   "execution_count": 21,
   "metadata": {},
   "outputs": [],
   "source": [
    "#model setting\n",
    "from tensorflow.keras.models import Sequential\n",
    "from tensorflow.keras.layers import Embedding, Dense, SimpleRNN"
   ]
  },
  {
   "cell_type": "code",
   "execution_count": 22,
   "metadata": {},
   "outputs": [
    {
     "name": "stdout",
     "output_type": "stream",
     "text": [
      "Epoch 1/200\n",
      "1/1 - 0s - loss: 2.4512 - accuracy: 0.0909\n",
      "Epoch 2/200\n",
      "1/1 - 0s - loss: 2.4356 - accuracy: 0.1818\n",
      "Epoch 3/200\n",
      "1/1 - 0s - loss: 2.4195 - accuracy: 0.2727\n",
      "Epoch 4/200\n",
      "1/1 - 0s - loss: 2.4027 - accuracy: 0.2727\n",
      "Epoch 5/200\n",
      "1/1 - 0s - loss: 2.3853 - accuracy: 0.2727\n",
      "Epoch 6/200\n",
      "1/1 - 0s - loss: 2.3672 - accuracy: 0.3636\n",
      "Epoch 7/200\n",
      "1/1 - 0s - loss: 2.3482 - accuracy: 0.3636\n",
      "Epoch 8/200\n",
      "1/1 - 0s - loss: 2.3285 - accuracy: 0.3636\n",
      "Epoch 9/200\n",
      "1/1 - 0s - loss: 2.3078 - accuracy: 0.3636\n",
      "Epoch 10/200\n",
      "1/1 - 0s - loss: 2.2863 - accuracy: 0.3636\n",
      "Epoch 11/200\n",
      "1/1 - 0s - loss: 2.2640 - accuracy: 0.3636\n",
      "Epoch 12/200\n",
      "1/1 - 0s - loss: 2.2408 - accuracy: 0.3636\n",
      "Epoch 13/200\n",
      "1/1 - 0s - loss: 2.2169 - accuracy: 0.3636\n",
      "Epoch 14/200\n",
      "1/1 - 0s - loss: 2.1923 - accuracy: 0.3636\n",
      "Epoch 15/200\n",
      "1/1 - 0s - loss: 2.1673 - accuracy: 0.3636\n",
      "Epoch 16/200\n",
      "1/1 - 0s - loss: 2.1421 - accuracy: 0.3636\n",
      "Epoch 17/200\n",
      "1/1 - 0s - loss: 2.1169 - accuracy: 0.3636\n",
      "Epoch 18/200\n",
      "1/1 - 0s - loss: 2.0922 - accuracy: 0.3636\n",
      "Epoch 19/200\n",
      "1/1 - 0s - loss: 2.0682 - accuracy: 0.3636\n",
      "Epoch 20/200\n",
      "1/1 - 0s - loss: 2.0454 - accuracy: 0.3636\n",
      "Epoch 21/200\n",
      "1/1 - 0s - loss: 2.0242 - accuracy: 0.3636\n",
      "Epoch 22/200\n",
      "1/1 - 0s - loss: 2.0049 - accuracy: 0.3636\n",
      "Epoch 23/200\n",
      "1/1 - 0s - loss: 1.9875 - accuracy: 0.3636\n",
      "Epoch 24/200\n",
      "1/1 - 0s - loss: 1.9721 - accuracy: 0.3636\n",
      "Epoch 25/200\n",
      "1/1 - 0s - loss: 1.9584 - accuracy: 0.3636\n",
      "Epoch 26/200\n",
      "1/1 - 0s - loss: 1.9457 - accuracy: 0.3636\n",
      "Epoch 27/200\n",
      "1/1 - 0s - loss: 1.9337 - accuracy: 0.3636\n",
      "Epoch 28/200\n",
      "1/1 - 0s - loss: 1.9215 - accuracy: 0.3636\n",
      "Epoch 29/200\n",
      "1/1 - 0s - loss: 1.9089 - accuracy: 0.3636\n",
      "Epoch 30/200\n",
      "1/1 - 0s - loss: 1.8956 - accuracy: 0.3636\n",
      "Epoch 31/200\n",
      "1/1 - 0s - loss: 1.8814 - accuracy: 0.3636\n",
      "Epoch 32/200\n",
      "1/1 - 0s - loss: 1.8665 - accuracy: 0.3636\n",
      "Epoch 33/200\n",
      "1/1 - 0s - loss: 1.8509 - accuracy: 0.3636\n",
      "Epoch 34/200\n",
      "1/1 - 0s - loss: 1.8349 - accuracy: 0.3636\n",
      "Epoch 35/200\n",
      "1/1 - 0s - loss: 1.8187 - accuracy: 0.3636\n",
      "Epoch 36/200\n",
      "1/1 - 0s - loss: 1.8025 - accuracy: 0.3636\n",
      "Epoch 37/200\n",
      "1/1 - 0s - loss: 1.7864 - accuracy: 0.3636\n",
      "Epoch 38/200\n",
      "1/1 - 0s - loss: 1.7705 - accuracy: 0.3636\n",
      "Epoch 39/200\n",
      "1/1 - 0s - loss: 1.7547 - accuracy: 0.3636\n",
      "Epoch 40/200\n",
      "1/1 - 0s - loss: 1.7390 - accuracy: 0.3636\n",
      "Epoch 41/200\n",
      "1/1 - 0s - loss: 1.7233 - accuracy: 0.3636\n",
      "Epoch 42/200\n",
      "1/1 - 0s - loss: 1.7074 - accuracy: 0.3636\n",
      "Epoch 43/200\n",
      "1/1 - 0s - loss: 1.6912 - accuracy: 0.3636\n",
      "Epoch 44/200\n",
      "1/1 - 0s - loss: 1.6746 - accuracy: 0.4545\n",
      "Epoch 45/200\n",
      "1/1 - 0s - loss: 1.6575 - accuracy: 0.4545\n",
      "Epoch 46/200\n",
      "1/1 - 0s - loss: 1.6399 - accuracy: 0.4545\n",
      "Epoch 47/200\n",
      "1/1 - 0s - loss: 1.6217 - accuracy: 0.4545\n",
      "Epoch 48/200\n",
      "1/1 - 0s - loss: 1.6030 - accuracy: 0.5455\n",
      "Epoch 49/200\n",
      "1/1 - 0s - loss: 1.5839 - accuracy: 0.5455\n",
      "Epoch 50/200\n",
      "1/1 - 0s - loss: 1.5643 - accuracy: 0.5455\n",
      "Epoch 51/200\n",
      "1/1 - 0s - loss: 1.5443 - accuracy: 0.5455\n",
      "Epoch 52/200\n",
      "1/1 - 0s - loss: 1.5239 - accuracy: 0.5455\n",
      "Epoch 53/200\n",
      "1/1 - 0s - loss: 1.5033 - accuracy: 0.6364\n",
      "Epoch 54/200\n",
      "1/1 - 0s - loss: 1.4825 - accuracy: 0.6364\n",
      "Epoch 55/200\n",
      "1/1 - 0s - loss: 1.4615 - accuracy: 0.6364\n",
      "Epoch 56/200\n",
      "1/1 - 0s - loss: 1.4405 - accuracy: 0.6364\n",
      "Epoch 57/200\n",
      "1/1 - 0s - loss: 1.4193 - accuracy: 0.6364\n",
      "Epoch 58/200\n",
      "1/1 - 0s - loss: 1.3982 - accuracy: 0.6364\n",
      "Epoch 59/200\n",
      "1/1 - 0s - loss: 1.3770 - accuracy: 0.6364\n",
      "Epoch 60/200\n",
      "1/1 - 0s - loss: 1.3560 - accuracy: 0.6364\n",
      "Epoch 61/200\n",
      "1/1 - 0s - loss: 1.3351 - accuracy: 0.6364\n",
      "Epoch 62/200\n",
      "1/1 - 0s - loss: 1.3143 - accuracy: 0.6364\n",
      "Epoch 63/200\n",
      "1/1 - 0s - loss: 1.2938 - accuracy: 0.6364\n",
      "Epoch 64/200\n",
      "1/1 - 0s - loss: 1.2735 - accuracy: 0.6364\n",
      "Epoch 65/200\n",
      "1/1 - 0s - loss: 1.2535 - accuracy: 0.6364\n",
      "Epoch 66/200\n",
      "1/1 - 0s - loss: 1.2339 - accuracy: 0.6364\n",
      "Epoch 67/200\n",
      "1/1 - 0s - loss: 1.2146 - accuracy: 0.6364\n",
      "Epoch 68/200\n",
      "1/1 - 0s - loss: 1.1956 - accuracy: 0.6364\n",
      "Epoch 69/200\n",
      "1/1 - 0s - loss: 1.1770 - accuracy: 0.6364\n",
      "Epoch 70/200\n",
      "1/1 - 0s - loss: 1.1588 - accuracy: 0.6364\n",
      "Epoch 71/200\n",
      "1/1 - 0s - loss: 1.1410 - accuracy: 0.6364\n",
      "Epoch 72/200\n",
      "1/1 - 0s - loss: 1.1235 - accuracy: 0.6364\n",
      "Epoch 73/200\n",
      "1/1 - 0s - loss: 1.1064 - accuracy: 0.6364\n",
      "Epoch 74/200\n",
      "1/1 - 0s - loss: 1.0897 - accuracy: 0.6364\n",
      "Epoch 75/200\n",
      "1/1 - 0s - loss: 1.0734 - accuracy: 0.6364\n",
      "Epoch 76/200\n",
      "1/1 - 0s - loss: 1.0574 - accuracy: 0.6364\n",
      "Epoch 77/200\n",
      "1/1 - 0s - loss: 1.0418 - accuracy: 0.6364\n",
      "Epoch 78/200\n",
      "1/1 - 0s - loss: 1.0266 - accuracy: 0.6364\n",
      "Epoch 79/200\n",
      "1/1 - 0s - loss: 1.0117 - accuracy: 0.6364\n",
      "Epoch 80/200\n",
      "1/1 - 0s - loss: 0.9971 - accuracy: 0.6364\n",
      "Epoch 81/200\n",
      "1/1 - 0s - loss: 0.9829 - accuracy: 0.6364\n",
      "Epoch 82/200\n",
      "1/1 - 0s - loss: 0.9690 - accuracy: 0.6364\n",
      "Epoch 83/200\n",
      "1/1 - 0s - loss: 0.9554 - accuracy: 0.7273\n",
      "Epoch 84/200\n",
      "1/1 - 0s - loss: 0.9420 - accuracy: 0.7273\n",
      "Epoch 85/200\n",
      "1/1 - 0s - loss: 0.9289 - accuracy: 0.7273\n",
      "Epoch 86/200\n",
      "1/1 - 0s - loss: 0.9160 - accuracy: 0.7273\n",
      "Epoch 87/200\n",
      "1/1 - 0s - loss: 0.9034 - accuracy: 0.8182\n",
      "Epoch 88/200\n",
      "1/1 - 0s - loss: 0.8910 - accuracy: 0.8182\n",
      "Epoch 89/200\n",
      "1/1 - 0s - loss: 0.8787 - accuracy: 0.8182\n",
      "Epoch 90/200\n",
      "1/1 - 0s - loss: 0.8667 - accuracy: 0.8182\n",
      "Epoch 91/200\n",
      "1/1 - 0s - loss: 0.8548 - accuracy: 0.8182\n",
      "Epoch 92/200\n",
      "1/1 - 0s - loss: 0.8431 - accuracy: 0.8182\n",
      "Epoch 93/200\n",
      "1/1 - 0s - loss: 0.8315 - accuracy: 0.8182\n",
      "Epoch 94/200\n",
      "1/1 - 0s - loss: 0.8201 - accuracy: 0.8182\n",
      "Epoch 95/200\n",
      "1/1 - 0s - loss: 0.8089 - accuracy: 0.8182\n",
      "Epoch 96/200\n",
      "1/1 - 0s - loss: 0.7978 - accuracy: 0.8182\n",
      "Epoch 97/200\n",
      "1/1 - 0s - loss: 0.7868 - accuracy: 0.8182\n",
      "Epoch 98/200\n",
      "1/1 - 0s - loss: 0.7759 - accuracy: 0.8182\n",
      "Epoch 99/200\n",
      "1/1 - 0s - loss: 0.7652 - accuracy: 0.8182\n",
      "Epoch 100/200\n",
      "1/1 - 0s - loss: 0.7546 - accuracy: 0.8182\n",
      "Epoch 101/200\n",
      "1/1 - 0s - loss: 0.7442 - accuracy: 0.8182\n",
      "Epoch 102/200\n",
      "1/1 - 0s - loss: 0.7339 - accuracy: 0.8182\n",
      "Epoch 103/200\n",
      "1/1 - 0s - loss: 0.7237 - accuracy: 0.8182\n",
      "Epoch 104/200\n",
      "1/1 - 0s - loss: 0.7136 - accuracy: 0.8182\n",
      "Epoch 105/200\n",
      "1/1 - 0s - loss: 0.7037 - accuracy: 0.8182\n",
      "Epoch 106/200\n",
      "1/1 - 0s - loss: 0.6939 - accuracy: 0.8182\n",
      "Epoch 107/200\n",
      "1/1 - 0s - loss: 0.6842 - accuracy: 0.8182\n",
      "Epoch 108/200\n",
      "1/1 - 0s - loss: 0.6747 - accuracy: 0.8182\n",
      "Epoch 109/200\n",
      "1/1 - 0s - loss: 0.6653 - accuracy: 0.8182\n",
      "Epoch 110/200\n",
      "1/1 - 0s - loss: 0.6560 - accuracy: 0.8182\n",
      "Epoch 111/200\n",
      "1/1 - 0s - loss: 0.6468 - accuracy: 0.8182\n",
      "Epoch 112/200\n",
      "1/1 - 0s - loss: 0.6378 - accuracy: 0.8182\n",
      "Epoch 113/200\n",
      "1/1 - 0s - loss: 0.6289 - accuracy: 0.8182\n",
      "Epoch 114/200\n",
      "1/1 - 0s - loss: 0.6202 - accuracy: 0.8182\n",
      "Epoch 115/200\n",
      "1/1 - 0s - loss: 0.6116 - accuracy: 0.8182\n",
      "Epoch 116/200\n",
      "1/1 - 0s - loss: 0.6031 - accuracy: 0.8182\n",
      "Epoch 117/200\n",
      "1/1 - 0s - loss: 0.5947 - accuracy: 0.8182\n",
      "Epoch 118/200\n",
      "1/1 - 0s - loss: 0.5865 - accuracy: 0.8182\n",
      "Epoch 119/200\n",
      "1/1 - 0s - loss: 0.5784 - accuracy: 0.8182\n",
      "Epoch 120/200\n",
      "1/1 - 0s - loss: 0.5705 - accuracy: 0.8182\n",
      "Epoch 121/200\n",
      "1/1 - 0s - loss: 0.5627 - accuracy: 0.8182\n",
      "Epoch 122/200\n",
      "1/1 - 0s - loss: 0.5550 - accuracy: 0.8182\n",
      "Epoch 123/200\n",
      "1/1 - 0s - loss: 0.5475 - accuracy: 0.8182\n",
      "Epoch 124/200\n",
      "1/1 - 0s - loss: 0.5401 - accuracy: 0.8182\n",
      "Epoch 125/200\n",
      "1/1 - 0s - loss: 0.5328 - accuracy: 0.8182\n",
      "Epoch 126/200\n",
      "1/1 - 0s - loss: 0.5257 - accuracy: 0.8182\n",
      "Epoch 127/200\n",
      "1/1 - 0s - loss: 0.5187 - accuracy: 0.8182\n",
      "Epoch 128/200\n",
      "1/1 - 0s - loss: 0.5118 - accuracy: 0.8182\n",
      "Epoch 129/200\n",
      "1/1 - 0s - loss: 0.5051 - accuracy: 0.8182\n",
      "Epoch 130/200\n",
      "1/1 - 0s - loss: 0.4985 - accuracy: 0.8182\n",
      "Epoch 131/200\n",
      "1/1 - 0s - loss: 0.4920 - accuracy: 0.8182\n",
      "Epoch 132/200\n",
      "1/1 - 0s - loss: 0.4857 - accuracy: 0.8182\n",
      "Epoch 133/200\n",
      "1/1 - 0s - loss: 0.4795 - accuracy: 0.8182\n",
      "Epoch 134/200\n",
      "1/1 - 0s - loss: 0.4733 - accuracy: 0.8182\n",
      "Epoch 135/200\n",
      "1/1 - 0s - loss: 0.4674 - accuracy: 0.8182\n",
      "Epoch 136/200\n",
      "1/1 - 0s - loss: 0.4615 - accuracy: 0.8182\n",
      "Epoch 137/200\n",
      "1/1 - 0s - loss: 0.4557 - accuracy: 0.8182\n",
      "Epoch 138/200\n",
      "1/1 - 0s - loss: 0.4501 - accuracy: 0.8182\n",
      "Epoch 139/200\n",
      "1/1 - 0s - loss: 0.4445 - accuracy: 0.8182\n",
      "Epoch 140/200\n",
      "1/1 - 0s - loss: 0.4391 - accuracy: 0.8182\n",
      "Epoch 141/200\n",
      "1/1 - 0s - loss: 0.4337 - accuracy: 0.8182\n",
      "Epoch 142/200\n",
      "1/1 - 0s - loss: 0.4285 - accuracy: 0.8182\n",
      "Epoch 143/200\n",
      "1/1 - 0s - loss: 0.4233 - accuracy: 0.8182\n",
      "Epoch 144/200\n",
      "1/1 - 0s - loss: 0.4183 - accuracy: 0.8182\n",
      "Epoch 145/200\n",
      "1/1 - 0s - loss: 0.4133 - accuracy: 0.8182\n",
      "Epoch 146/200\n",
      "1/1 - 0s - loss: 0.4084 - accuracy: 0.8182\n"
     ]
    },
    {
     "name": "stdout",
     "output_type": "stream",
     "text": [
      "Epoch 147/200\n",
      "1/1 - 0s - loss: 0.4036 - accuracy: 0.8182\n",
      "Epoch 148/200\n",
      "1/1 - 0s - loss: 0.3989 - accuracy: 0.8182\n",
      "Epoch 149/200\n",
      "1/1 - 0s - loss: 0.3943 - accuracy: 0.8182\n",
      "Epoch 150/200\n",
      "1/1 - 0s - loss: 0.3897 - accuracy: 0.8182\n",
      "Epoch 151/200\n",
      "1/1 - 0s - loss: 0.3852 - accuracy: 0.8182\n",
      "Epoch 152/200\n",
      "1/1 - 0s - loss: 0.3808 - accuracy: 0.8182\n",
      "Epoch 153/200\n",
      "1/1 - 0s - loss: 0.3765 - accuracy: 0.8182\n",
      "Epoch 154/200\n",
      "1/1 - 0s - loss: 0.3722 - accuracy: 0.8182\n",
      "Epoch 155/200\n",
      "1/1 - 0s - loss: 0.3680 - accuracy: 0.8182\n",
      "Epoch 156/200\n",
      "1/1 - 0s - loss: 0.3638 - accuracy: 0.8182\n",
      "Epoch 157/200\n",
      "1/1 - 0s - loss: 0.3598 - accuracy: 0.8182\n",
      "Epoch 158/200\n",
      "1/1 - 0s - loss: 0.3557 - accuracy: 0.9091\n",
      "Epoch 159/200\n",
      "1/1 - 0s - loss: 0.3517 - accuracy: 0.9091\n",
      "Epoch 160/200\n",
      "1/1 - 0s - loss: 0.3478 - accuracy: 0.9091\n",
      "Epoch 161/200\n",
      "1/1 - 0s - loss: 0.3439 - accuracy: 0.9091\n",
      "Epoch 162/200\n",
      "1/1 - 0s - loss: 0.3401 - accuracy: 0.9091\n",
      "Epoch 163/200\n",
      "1/1 - 0s - loss: 0.3363 - accuracy: 0.9091\n",
      "Epoch 164/200\n",
      "1/1 - 0s - loss: 0.3326 - accuracy: 0.9091\n",
      "Epoch 165/200\n",
      "1/1 - 0s - loss: 0.3289 - accuracy: 0.9091\n",
      "Epoch 166/200\n",
      "1/1 - 0s - loss: 0.3252 - accuracy: 0.9091\n",
      "Epoch 167/200\n",
      "1/1 - 0s - loss: 0.3216 - accuracy: 0.9091\n",
      "Epoch 168/200\n",
      "1/1 - 0s - loss: 0.3180 - accuracy: 0.9091\n",
      "Epoch 169/200\n",
      "1/1 - 0s - loss: 0.3145 - accuracy: 0.9091\n",
      "Epoch 170/200\n",
      "1/1 - 0s - loss: 0.3109 - accuracy: 0.9091\n",
      "Epoch 171/200\n",
      "1/1 - 0s - loss: 0.3075 - accuracy: 1.0000\n",
      "Epoch 172/200\n",
      "1/1 - 0s - loss: 0.3040 - accuracy: 1.0000\n",
      "Epoch 173/200\n",
      "1/1 - 0s - loss: 0.3006 - accuracy: 1.0000\n",
      "Epoch 174/200\n",
      "1/1 - 0s - loss: 0.2972 - accuracy: 1.0000\n",
      "Epoch 175/200\n",
      "1/1 - 0s - loss: 0.2938 - accuracy: 1.0000\n",
      "Epoch 176/200\n",
      "1/1 - 0s - loss: 0.2905 - accuracy: 1.0000\n",
      "Epoch 177/200\n",
      "1/1 - 0s - loss: 0.2872 - accuracy: 1.0000\n",
      "Epoch 178/200\n",
      "1/1 - 0s - loss: 0.2839 - accuracy: 1.0000\n",
      "Epoch 179/200\n",
      "1/1 - 0s - loss: 0.2806 - accuracy: 1.0000\n",
      "Epoch 180/200\n",
      "1/1 - 0s - loss: 0.2774 - accuracy: 1.0000\n",
      "Epoch 181/200\n",
      "1/1 - 0s - loss: 0.2741 - accuracy: 1.0000\n",
      "Epoch 182/200\n",
      "1/1 - 0s - loss: 0.2709 - accuracy: 1.0000\n",
      "Epoch 183/200\n",
      "1/1 - 0s - loss: 0.2677 - accuracy: 1.0000\n",
      "Epoch 184/200\n",
      "1/1 - 0s - loss: 0.2646 - accuracy: 1.0000\n",
      "Epoch 185/200\n",
      "1/1 - 0s - loss: 0.2614 - accuracy: 1.0000\n",
      "Epoch 186/200\n",
      "1/1 - 0s - loss: 0.2583 - accuracy: 1.0000\n",
      "Epoch 187/200\n",
      "1/1 - 0s - loss: 0.2552 - accuracy: 1.0000\n",
      "Epoch 188/200\n",
      "1/1 - 0s - loss: 0.2521 - accuracy: 1.0000\n",
      "Epoch 189/200\n",
      "1/1 - 0s - loss: 0.2490 - accuracy: 1.0000\n",
      "Epoch 190/200\n",
      "1/1 - 0s - loss: 0.2459 - accuracy: 1.0000\n",
      "Epoch 191/200\n",
      "1/1 - 0s - loss: 0.2428 - accuracy: 1.0000\n",
      "Epoch 192/200\n",
      "1/1 - 0s - loss: 0.2398 - accuracy: 1.0000\n",
      "Epoch 193/200\n",
      "1/1 - 0s - loss: 0.2368 - accuracy: 1.0000\n",
      "Epoch 194/200\n",
      "1/1 - 0s - loss: 0.2338 - accuracy: 1.0000\n",
      "Epoch 195/200\n",
      "1/1 - 0s - loss: 0.2308 - accuracy: 1.0000\n",
      "Epoch 196/200\n",
      "1/1 - 0s - loss: 0.2278 - accuracy: 1.0000\n",
      "Epoch 197/200\n",
      "1/1 - 0s - loss: 0.2248 - accuracy: 1.0000\n",
      "Epoch 198/200\n",
      "1/1 - 0s - loss: 0.2218 - accuracy: 1.0000\n",
      "Epoch 199/200\n",
      "1/1 - 0s - loss: 0.2189 - accuracy: 1.0000\n",
      "Epoch 200/200\n",
      "1/1 - 0s - loss: 0.2160 - accuracy: 1.0000\n"
     ]
    },
    {
     "data": {
      "text/plain": [
       "<tensorflow.python.keras.callbacks.History at 0x7fc33730a040>"
      ]
     },
     "execution_count": 22,
     "metadata": {},
     "output_type": "execute_result"
    }
   ],
   "source": [
    "model = Sequential()\n",
    "model.add(Embedding(vocab_size, 10, input_length=max_len-1))\n",
    "model.add(SimpleRNN(32))\n",
    "model.add(Dense(vocab_size, activation='softmax'))\n",
    "model.compile(loss='categorical_crossentropy', optimizer='adam', metrics=['accuracy'])\n",
    "model.fit(X, y, epochs=200, verbose=2)"
   ]
  },
  {
   "cell_type": "code",
   "execution_count": 25,
   "metadata": {},
   "outputs": [],
   "source": [
    "def sentence_generation(model, t, current_word, n):\n",
    "    init_word = current_word\n",
    "    sentence = ''\n",
    "    for _ in range(n):\n",
    "        encoded = t.texts_to_sequences([current_word])[0]\n",
    "        encoded = pad_sequences([encoded], maxlen=5, padding='pre')\n",
    "        result = model.predict_classes(encoded, verbose=0)\n",
    "        \n",
    "        for word, index in t.word_index.items():\n",
    "            if index == result:\n",
    "                break\n",
    "        current_word = current_word + ' ' + word\n",
    "        sentence = sentence + ' ' + word\n",
    "    sentence = init_word + sentence\n",
    "    return sentence\n",
    "        "
   ]
  },
  {
   "cell_type": "code",
   "execution_count": 26,
   "metadata": {},
   "outputs": [
    {
     "name": "stdout",
     "output_type": "stream",
     "text": [
      "WARNING:tensorflow:From <ipython-input-25-bdbfbab57c15>:7: Sequential.predict_classes (from tensorflow.python.keras.engine.sequential) is deprecated and will be removed after 2021-01-01.\n",
      "Instructions for updating:\n",
      "Please use instead:* `np.argmax(model.predict(x), axis=-1)`,   if your model does multi-class classification   (e.g. if it uses a `softmax` last-layer activation).* `(model.predict(x) > 0.5).astype(\"int32\")`,   if your model does binary classification   (e.g. if it uses a `sigmoid` last-layer activation).\n",
      "경마장에 있는 말이 뛰고 있다\n"
     ]
    }
   ],
   "source": [
    "print(sentence_generation(model, t, '경마장에', 4))"
   ]
  },
  {
   "cell_type": "code",
   "execution_count": 27,
   "metadata": {},
   "outputs": [
    {
     "name": "stdout",
     "output_type": "stream",
     "text": [
      "그의 말이 법이다\n"
     ]
    }
   ],
   "source": [
    "print(sentence_generation(model, t, '그의', 2))"
   ]
  },
  {
   "cell_type": "code",
   "execution_count": 32,
   "metadata": {},
   "outputs": [
    {
     "name": "stdout",
     "output_type": "stream",
     "text": [
      "가는 말이 고와야 오늘 말이 곱다\n"
     ]
    }
   ],
   "source": [
    "print(sentence_generation(model, t, '가는', 5))"
   ]
  },
  {
   "cell_type": "code",
   "execution_count": null,
   "metadata": {},
   "outputs": [],
   "source": []
  }
 ],
 "metadata": {
  "kernelspec": {
   "display_name": "Python 3",
   "language": "python",
   "name": "python3"
  },
  "language_info": {
   "codemirror_mode": {
    "name": "ipython",
    "version": 3
   },
   "file_extension": ".py",
   "mimetype": "text/x-python",
   "name": "python",
   "nbconvert_exporter": "python",
   "pygments_lexer": "ipython3",
   "version": "3.8.3"
  }
 },
 "nbformat": 4,
 "nbformat_minor": 4
}
